{
 "cells": [
  {
   "cell_type": "markdown",
   "metadata": {},
   "source": [
    "# Fine-mapping of Alzheimer's disease GWAS summary statistics using GentroPy"
   ]
  },
  {
   "cell_type": "markdown",
   "metadata": {},
   "source": [
    "This notebook presents an example of fine-mapping of the GWAS catalog study for Alzheimer's disease ([link to study](https://genetics.opentargets.org/Study/GCST90012877/associations)). The study itself is a good benchmarking example for fine-mapping - relatively large number of SNPs, very strong signal on the 19th chromosome (APOE). It's worth noting that usually very strong signals are excluded from fine-mapping due to instability.\n",
    "\n",
    "Also, we excluded MHC region (6:28M-34M) from fine-mapping because it has a huge density of the variants.\n",
    "\n",
    "To execute it on your local machine (not dataproc) you need to install https://github.com/broadinstitute/install-gcs-connector."
   ]
  },
  {
   "cell_type": "markdown",
   "metadata": {},
   "source": [
    "## Initialization"
   ]
  },
  {
   "cell_type": "code",
   "execution_count": 1,
   "metadata": {},
   "outputs": [
    {
     "name": "stdout",
     "output_type": "stream",
     "text": [
      "Your browser has been opened to visit:\n",
      "\n",
      "    https://accounts.google.com/o/oauth2/auth?response_type=code&client_id=764086051850-6qr4p6gpi6hn506pt8ejuq83di341hur.apps.googleusercontent.com&redirect_uri=http%3A%2F%2Flocalhost%3A8085%2F&scope=openid+https%3A%2F%2Fwww.googleapis.com%2Fauth%2Fuserinfo.email+https%3A%2F%2Fwww.googleapis.com%2Fauth%2Fcloud-platform+https%3A%2F%2Fwww.googleapis.com%2Fauth%2Fsqlservice.login+https%3A%2F%2Fwww.googleapis.com%2Fauth%2Faccounts.reauth&state=2Jvk4c7unAsigRvEKhceIxcrpGmeK8&access_type=offline&code_challenge=84guS6MmOY7qgvNpHLxoJbhRDBUAEUS93teMwQboD3Q&code_challenge_method=S256\n",
      "\n",
      "\n",
      "Credentials saved to file: [/Users/yt4/.config/gcloud/application_default_credentials.json]\n",
      "\n",
      "These credentials will be used by any library that requests Application Default Credentials (ADC).\n",
      "\n",
      "Quota project \"open-targets-genetics-dev\" was added to ADC which can be used by Google client libraries for billing and quota. Note that some services may still bill the project owning the resource.\n",
      "\n",
      "\n",
      "Updates are available for some Google Cloud CLI components.  To install them,\n",
      "please run:\n",
      "  $ gcloud components update\n",
      "\n"
     ]
    }
   ],
   "source": [
    "!gcloud auth application-default login"
   ]
  },
  {
   "cell_type": "code",
   "execution_count": 1,
   "metadata": {},
   "outputs": [
    {
     "data": {
      "text/html": [
       "<style>\n",
       "        .bk-notebook-logo {\n",
       "            display: block;\n",
       "            width: 20px;\n",
       "            height: 20px;\n",
       "            background-image: url(data:image/png;base64,iVBORw0KGgoAAAANSUhEUgAAABQAAAAUCAYAAACNiR0NAAAABHNCSVQICAgIfAhkiAAAAAlwSFlzAAALEgAACxIB0t1+/AAAABx0RVh0U29mdHdhcmUAQWRvYmUgRmlyZXdvcmtzIENTNui8sowAAAOkSURBVDiNjZRtaJVlGMd/1/08zzln5zjP1LWcU9N0NkN8m2CYjpgQYQXqSs0I84OLIC0hkEKoPtiH3gmKoiJDU7QpLgoLjLIQCpEsNJ1vqUOdO7ppbuec5+V+rj4ctwzd8IIbbi6u+8f1539dt3A78eXC7QizUF7gyV1fD1Yqg4JWz84yffhm0qkFqBogB9rM8tZdtwVsPUhWhGcFJngGeWrPzHm5oaMmkfEg1usvLFyc8jLRqDOMru7AyC8saQr7GG7f5fvDeH7Ej8CM66nIF+8yngt6HWaKh7k49Soy9nXurCi1o3qUbS3zWfrYeQDTB/Qj6kX6Ybhw4B+bOYoLKCC9H3Nu/leUTZ1JdRWkkn2ldcCamzrcf47KKXdAJllSlxAOkRgyHsGC/zRday5Qld9DyoM4/q/rUoy/CXh3jzOu3bHUVZeU+DEn8FInkPBFlu3+nW3Nw0mk6vCDiWg8CeJaxEwuHS3+z5RgY+YBR6V1Z1nxSOfoaPa4LASWxxdNp+VWTk7+4vzaou8v8PN+xo+KY2xsw6une2frhw05CTYOmQvsEhjhWjn0bmXPjpE1+kplmmkP3suftwTubK9Vq22qKmrBhpY4jvd5afdRA3wGjFAgcnTK2s4hY0/GPNIb0nErGMCRxWOOX64Z8RAC4oCXdklmEvcL8o0BfkNK4lUg9HTl+oPlQxdNo3Mg4Nv175e/1LDGzZen30MEjRUtmXSfiTVu1kK8W4txyV6BMKlbgk3lMwYCiusNy9fVfvvwMxv8Ynl6vxoByANLTWplvuj/nF9m2+PDtt1eiHPBr1oIfhCChQMBw6Aw0UulqTKZdfVvfG7VcfIqLG9bcldL/+pdWTLxLUy8Qq38heUIjh4XlzZxzQm19lLFlr8vdQ97rjZVOLf8nclzckbcD4wxXMidpX30sFd37Fv/GtwwhzhxGVAprjbg0gCAEeIgwCZyTV2Z1REEW8O4py0wsjeloKoMr6iCY6dP92H6Vw/oTyICIthibxjm/DfN9lVz8IqtqKYLUXfoKVMVQVVJOElGjrnnUt9T9wbgp8AyYKaGlqingHZU/uG2NTZSVqwHQTWkx9hxjkpWDaCg6Ckj5qebgBVbT3V3NNXMSiWSDdGV3hrtzla7J+duwPOToIg42ChPQOQjspnSlp1V+Gjdged7+8UN5CRAV7a5EdFNwCjEaBR27b3W890TE7g24NAP/mMDXRWrGoFPQI9ls/MWO2dWFAar/xcOIImbbpA3zgAAAABJRU5ErkJggg==);\n",
       "        }\n",
       "    </style>\n",
       "    <div>\n",
       "        <a href=\"https://bokeh.org\" target=\"_blank\" class=\"bk-notebook-logo\"></a>\n",
       "        <span id=\"a8e9a6a6-96f7-4efd-a426-b2299499ef03\">Loading BokehJS ...</span>\n",
       "    </div>\n"
      ]
     },
     "metadata": {},
     "output_type": "display_data"
    },
    {
     "data": {
      "application/javascript": "(function(root) {\n  function now() {\n    return new Date();\n  }\n\n  const force = true;\n\n  if (typeof root._bokeh_onload_callbacks === \"undefined\" || force === true) {\n    root._bokeh_onload_callbacks = [];\n    root._bokeh_is_loading = undefined;\n  }\n\nconst JS_MIME_TYPE = 'application/javascript';\n  const HTML_MIME_TYPE = 'text/html';\n  const EXEC_MIME_TYPE = 'application/vnd.bokehjs_exec.v0+json';\n  const CLASS_NAME = 'output_bokeh rendered_html';\n\n  /**\n   * Render data to the DOM node\n   */\n  function render(props, node) {\n    const script = document.createElement(\"script\");\n    node.appendChild(script);\n  }\n\n  /**\n   * Handle when an output is cleared or removed\n   */\n  function handleClearOutput(event, handle) {\n    function drop(id) {\n      const view = Bokeh.index.get_by_id(id)\n      if (view != null) {\n        view.model.document.clear()\n        Bokeh.index.delete(view)\n      }\n    }\n\n    const cell = handle.cell;\n\n    const id = cell.output_area._bokeh_element_id;\n    const server_id = cell.output_area._bokeh_server_id;\n\n    // Clean up Bokeh references\n    if (id != null) {\n      drop(id)\n    }\n\n    if (server_id !== undefined) {\n      // Clean up Bokeh references\n      const cmd_clean = \"from bokeh.io.state import curstate; print(curstate().uuid_to_server['\" + server_id + \"'].get_sessions()[0].document.roots[0]._id)\";\n      cell.notebook.kernel.execute(cmd_clean, {\n        iopub: {\n          output: function(msg) {\n            const id = msg.content.text.trim()\n            drop(id)\n          }\n        }\n      });\n      // Destroy server and session\n      const cmd_destroy = \"import bokeh.io.notebook as ion; ion.destroy_server('\" + server_id + \"')\";\n      cell.notebook.kernel.execute(cmd_destroy);\n    }\n  }\n\n  /**\n   * Handle when a new output is added\n   */\n  function handleAddOutput(event, handle) {\n    const output_area = handle.output_area;\n    const output = handle.output;\n\n    // limit handleAddOutput to display_data with EXEC_MIME_TYPE content only\n    if ((output.output_type != \"display_data\") || (!Object.prototype.hasOwnProperty.call(output.data, EXEC_MIME_TYPE))) {\n      return\n    }\n\n    const toinsert = output_area.element.find(\".\" + CLASS_NAME.split(' ')[0]);\n\n    if (output.metadata[EXEC_MIME_TYPE][\"id\"] !== undefined) {\n      toinsert[toinsert.length - 1].firstChild.textContent = output.data[JS_MIME_TYPE];\n      // store reference to embed id on output_area\n      output_area._bokeh_element_id = output.metadata[EXEC_MIME_TYPE][\"id\"];\n    }\n    if (output.metadata[EXEC_MIME_TYPE][\"server_id\"] !== undefined) {\n      const bk_div = document.createElement(\"div\");\n      bk_div.innerHTML = output.data[HTML_MIME_TYPE];\n      const script_attrs = bk_div.children[0].attributes;\n      for (let i = 0; i < script_attrs.length; i++) {\n        toinsert[toinsert.length - 1].firstChild.setAttribute(script_attrs[i].name, script_attrs[i].value);\n        toinsert[toinsert.length - 1].firstChild.textContent = bk_div.children[0].textContent\n      }\n      // store reference to server id on output_area\n      output_area._bokeh_server_id = output.metadata[EXEC_MIME_TYPE][\"server_id\"];\n    }\n  }\n\n  function register_renderer(events, OutputArea) {\n\n    function append_mime(data, metadata, element) {\n      // create a DOM node to render to\n      const toinsert = this.create_output_subarea(\n        metadata,\n        CLASS_NAME,\n        EXEC_MIME_TYPE\n      );\n      this.keyboard_manager.register_events(toinsert);\n      // Render to node\n      const props = {data: data, metadata: metadata[EXEC_MIME_TYPE]};\n      render(props, toinsert[toinsert.length - 1]);\n      element.append(toinsert);\n      return toinsert\n    }\n\n    /* Handle when an output is cleared or removed */\n    events.on('clear_output.CodeCell', handleClearOutput);\n    events.on('delete.Cell', handleClearOutput);\n\n    /* Handle when a new output is added */\n    events.on('output_added.OutputArea', handleAddOutput);\n\n    /**\n     * Register the mime type and append_mime function with output_area\n     */\n    OutputArea.prototype.register_mime_type(EXEC_MIME_TYPE, append_mime, {\n      /* Is output safe? */\n      safe: true,\n      /* Index of renderer in `output_area.display_order` */\n      index: 0\n    });\n  }\n\n  // register the mime type if in Jupyter Notebook environment and previously unregistered\n  if (root.Jupyter !== undefined) {\n    const events = require('base/js/events');\n    const OutputArea = require('notebook/js/outputarea').OutputArea;\n\n    if (OutputArea.prototype.mime_types().indexOf(EXEC_MIME_TYPE) == -1) {\n      register_renderer(events, OutputArea);\n    }\n  }\n  if (typeof (root._bokeh_timeout) === \"undefined\" || force === true) {\n    root._bokeh_timeout = Date.now() + 5000;\n    root._bokeh_failed_load = false;\n  }\n\n  const NB_LOAD_WARNING = {'data': {'text/html':\n     \"<div style='background-color: #fdd'>\\n\"+\n     \"<p>\\n\"+\n     \"BokehJS does not appear to have successfully loaded. If loading BokehJS from CDN, this \\n\"+\n     \"may be due to a slow or bad network connection. Possible fixes:\\n\"+\n     \"</p>\\n\"+\n     \"<ul>\\n\"+\n     \"<li>re-rerun `output_notebook()` to attempt to load from CDN again, or</li>\\n\"+\n     \"<li>use INLINE resources instead, as so:</li>\\n\"+\n     \"</ul>\\n\"+\n     \"<code>\\n\"+\n     \"from bokeh.resources import INLINE\\n\"+\n     \"output_notebook(resources=INLINE)\\n\"+\n     \"</code>\\n\"+\n     \"</div>\"}};\n\n  function display_loaded() {\n    const el = document.getElementById(\"a8e9a6a6-96f7-4efd-a426-b2299499ef03\");\n    if (el != null) {\n      el.textContent = \"BokehJS is loading...\";\n    }\n    if (root.Bokeh !== undefined) {\n      if (el != null) {\n        el.textContent = \"BokehJS \" + root.Bokeh.version + \" successfully loaded.\";\n      }\n    } else if (Date.now() < root._bokeh_timeout) {\n      setTimeout(display_loaded, 100)\n    }\n  }\n\n  function run_callbacks() {\n    try {\n      root._bokeh_onload_callbacks.forEach(function(callback) {\n        if (callback != null)\n          callback();\n      });\n    } finally {\n      delete root._bokeh_onload_callbacks\n    }\n    console.debug(\"Bokeh: all callbacks have finished\");\n  }\n\n  function load_libs(css_urls, js_urls, callback) {\n    if (css_urls == null) css_urls = [];\n    if (js_urls == null) js_urls = [];\n\n    root._bokeh_onload_callbacks.push(callback);\n    if (root._bokeh_is_loading > 0) {\n      console.debug(\"Bokeh: BokehJS is being loaded, scheduling callback at\", now());\n      return null;\n    }\n    if (js_urls == null || js_urls.length === 0) {\n      run_callbacks();\n      return null;\n    }\n    console.debug(\"Bokeh: BokehJS not loaded, scheduling load and callback at\", now());\n    root._bokeh_is_loading = css_urls.length + js_urls.length;\n\n    function on_load() {\n      root._bokeh_is_loading--;\n      if (root._bokeh_is_loading === 0) {\n        console.debug(\"Bokeh: all BokehJS libraries/stylesheets loaded\");\n        run_callbacks()\n      }\n    }\n\n    function on_error(url) {\n      console.error(\"failed to load \" + url);\n    }\n\n    for (let i = 0; i < css_urls.length; i++) {\n      const url = css_urls[i];\n      const element = document.createElement(\"link\");\n      element.onload = on_load;\n      element.onerror = on_error.bind(null, url);\n      element.rel = \"stylesheet\";\n      element.type = \"text/css\";\n      element.href = url;\n      console.debug(\"Bokeh: injecting link tag for BokehJS stylesheet: \", url);\n      document.body.appendChild(element);\n    }\n\n    for (let i = 0; i < js_urls.length; i++) {\n      const url = js_urls[i];\n      const element = document.createElement('script');\n      element.onload = on_load;\n      element.onerror = on_error.bind(null, url);\n      element.async = false;\n      element.src = url;\n      console.debug(\"Bokeh: injecting script tag for BokehJS library: \", url);\n      document.head.appendChild(element);\n    }\n  };\n\n  function inject_raw_css(css) {\n    const element = document.createElement(\"style\");\n    element.appendChild(document.createTextNode(css));\n    document.body.appendChild(element);\n  }\n\n  const js_urls = [\"https://cdn.bokeh.org/bokeh/release/bokeh-3.3.0.min.js\", \"https://cdn.bokeh.org/bokeh/release/bokeh-gl-3.3.0.min.js\", \"https://cdn.bokeh.org/bokeh/release/bokeh-widgets-3.3.0.min.js\", \"https://cdn.bokeh.org/bokeh/release/bokeh-tables-3.3.0.min.js\", \"https://cdn.bokeh.org/bokeh/release/bokeh-mathjax-3.3.0.min.js\"];\n  const css_urls = [];\n\n  const inline_js = [    function(Bokeh) {\n      Bokeh.set_log_level(\"info\");\n    },\nfunction(Bokeh) {\n    }\n  ];\n\n  function run_inline_js() {\n    if (root.Bokeh !== undefined || force === true) {\n          for (let i = 0; i < inline_js.length; i++) {\n      inline_js[i].call(root, root.Bokeh);\n    }\nif (force === true) {\n        display_loaded();\n      }} else if (Date.now() < root._bokeh_timeout) {\n      setTimeout(run_inline_js, 100);\n    } else if (!root._bokeh_failed_load) {\n      console.log(\"Bokeh: BokehJS failed to load within specified timeout.\");\n      root._bokeh_failed_load = true;\n    } else if (force !== true) {\n      const cell = $(document.getElementById(\"a8e9a6a6-96f7-4efd-a426-b2299499ef03\")).parents('.cell').data().cell;\n      cell.output_area.append_execute_result(NB_LOAD_WARNING)\n    }\n  }\n\n  if (root._bokeh_is_loading === 0) {\n    console.debug(\"Bokeh: BokehJS loaded, going straight to plotting\");\n    run_inline_js();\n  } else {\n    load_libs(css_urls, js_urls, function() {\n      console.debug(\"Bokeh: BokehJS plotting callback run at\", now());\n      run_inline_js();\n    });\n  }\n}(window));",
      "application/vnd.bokehjs_load.v0+json": ""
     },
     "metadata": {},
     "output_type": "display_data"
    },
    {
     "name": "stdout",
     "output_type": "stream",
     "text": [
      "24/04/09 10:40:45 WARN NativeCodeLoader: Unable to load native-hadoop library for your platform... using builtin-java classes where applicable\n"
     ]
    },
    {
     "name": "stderr",
     "output_type": "stream",
     "text": [
      "Setting default log level to \"WARN\".\n",
      "To adjust logging level use sc.setLogLevel(newLevel). For SparkR, use setLogLevel(newLevel).\n",
      "pip-installed Hail requires additional configuration options in Spark referring\n",
      "  to the path to the Hail Python module directory HAIL_DIR,\n",
      "  e.g. /path/to/python/site-packages/hail:\n",
      "    spark.jars=HAIL_DIR/backend/hail-all-spark.jar\n",
      "    spark.driver.extraClassPath=HAIL_DIR/backend/hail-all-spark.jar\n",
      "    spark.executor.extraClassPath=./hail-all-spark.jarRunning on Apache Spark version 3.3.4\n",
      "SparkUI available at http://192.168.0.232:4040\n",
      "Welcome to\n",
      "     __  __     <>__\n",
      "    / /_/ /__  __/ /\n",
      "   / __  / _ `/ / /\n",
      "  /_/ /_/\\_,_/_/_/   version 0.2.127-bb535cd096c5\n",
      "LOGGING: writing to /dev/null\n"
     ]
    }
   ],
   "source": [
    "import os\n",
    "\n",
    "import hail as hl\n",
    "import pandas as pd\n",
    "import pyspark.sql.functions as f\n",
    "\n",
    "from gentropy.common.session import Session\n",
    "from gentropy.dataset.study_index import StudyIndex\n",
    "from gentropy.dataset.summary_statistics import SummaryStatistics\n",
    "from gentropy.method.window_based_clumping import WindowBasedClumping\n",
    "from gentropy.susie_finemapper import SusieFineMapperStep\n",
    "\n",
    "pd.set_option(\"display.max_colwidth\", None)\n",
    "pd.set_option(\"display.expand_frame_repr\", False)\n",
    "\n",
    "hail_dir = os.path.dirname(hl.__file__)\n",
    "session = Session(hail_home=hail_dir, start_hail=True, extended_spark_conf={\"spark.driver.memory\": \"12g\",\n",
    "    \"spark.kryoserializer.buffer.max\": \"500m\",\"spark.driver.maxResultSize\":\"3g\"})"
   ]
  },
  {
   "cell_type": "markdown",
   "metadata": {},
   "source": [
    "## Loading the data and clumping"
   ]
  },
  {
   "cell_type": "code",
   "execution_count": 2,
   "metadata": {},
   "outputs": [
    {
     "name": "stderr",
     "output_type": "stream",
     "text": [
      "                                                                                \r"
     ]
    },
    {
     "name": "stdout",
     "output_type": "stream",
     "text": [
      "Number of SNPs in GWAS:  10607272\n"
     ]
    },
    {
     "name": "stderr",
     "output_type": "stream",
     "text": [
      "[Stage 7:>                                                          (0 + 1) / 1]\r"
     ]
    },
    {
     "name": "stdout",
     "output_type": "stream",
     "text": [
      "Number of clumps:  33\n"
     ]
    },
    {
     "name": "stderr",
     "output_type": "stream",
     "text": [
      "                                                                                \r"
     ]
    }
   ],
   "source": [
    "path_gwas1=\"gs://gwas_catalog_data/harmonised_summary_statistics/GCST90012877.parquet\"\n",
    "path_si=\"gs://gwas_catalog_data/study_index\"\n",
    "\n",
    "gwas1 = SummaryStatistics.from_parquet(session, path_gwas1)\n",
    "study_index = StudyIndex.from_parquet(session, path_si)\n",
    "\n",
    "slt=WindowBasedClumping.clump(gwas1,gwas_significance=5e-8,distance=1e6)\n",
    "slt_df=slt._df\n"
   ]
  },
  {
   "cell_type": "code",
   "execution_count": 3,
   "metadata": {},
   "outputs": [
    {
     "name": "stderr",
     "output_type": "stream",
     "text": [
      "[Stage 15:===================================================>     (9 + 1) / 10]\r"
     ]
    },
    {
     "name": "stdout",
     "output_type": "stream",
     "text": [
      "+------------+----------------+----------+---------+----------------+----------+--------------+--------------+-------------------------------+----------------+--------------------+---------------+\n",
      "|     studyId|       variantId|chromosome| position|            beta|sampleSize|pValueMantissa|pValueExponent|effectAlleleFrequencyFromSource|   standardError|        studyLocusId|qualityControls|\n",
      "+------------+----------------+----------+---------+----------------+----------+--------------+--------------+-------------------------------+----------------+--------------------+---------------+\n",
      "|GCST90012877| 1_161185602_G_A|         1|161185602| 0.0609052805639|      null|         4.302|            -8|                        0.23499| 0.0111181765833| 6360456299763482946|             []|\n",
      "|GCST90012877| 1_207577223_T_C|         1|207577223| -0.122752564739|      null|         1.403|           -23|                       0.822818| 0.0122652043685|-6742466305250328444|             []|\n",
      "|GCST90012877| 10_11678309_A_G|        10| 11678309| 0.0668997305692|      null|         1.085|           -11|                       0.380517|0.00984571382836| 3672202482976347473|             []|\n",
      "|GCST90012877| 10_59886075_G_T|        10| 59886075|-0.0523916765294|      null|         3.802|            -8|                       0.480668|0.00952612570169|  760299597568413738|             []|\n",
      "|GCST90012877| 10_80520381_T_G|        10| 80520381| 0.0701098772587|      null|         2.736|            -9|                       0.793475| 0.0117897597766|-6168361428432361140|             []|\n",
      "|GCST90012877|11_121564878_T_C|        11|121564878| -0.186386086749|      null|         5.586|           -14|                       0.037005| 0.0247938672944|-7548659272243096830|             []|\n",
      "|GCST90012877| 11_47370397_G_A|        11| 47370397| 0.0634588530202|      null|         6.911|           -11|                       0.387521| 0.0097291000298| 1916491992423016132|             []|\n",
      "|GCST90012877| 11_60328267_T_C|        11| 60328267|-0.0892048800109|      null|         9.335|           -20|                       0.371215|0.00980658024905| 3318332793803757311|             []|\n",
      "|GCST90012877| 11_86156833_A_G|        11| 86156833|  0.103281644827|      null|         5.214|           -26|                       0.629462|0.00979200684254| 3806751464721795080|             []|\n",
      "|GCST90012877| 14_52924962_A_G|        14| 52924962|  0.102404628268|      null|          3.69|           -10|                       0.092233| 0.0163413709974|-8640267085448358001|             []|\n",
      "|GCST90012877| 14_92472511_G_A|        14| 92472511|-0.0762776811698|      null|         7.454|           -14|                       0.339674| 0.0101980809801| 8895835730818824947|             []|\n",
      "|GCST90012877| 15_50707194_C_G|        15| 50707194|-0.0722934881552|      null|         1.639|            -9|                       0.197469| 0.0119888249532|-4585712009512019667|             []|\n",
      "|GCST90012877| 15_58730416_T_C|        15| 58730416|-0.0675867539589|      null|         2.674|           -11|                       0.319058|  0.010142839928|-9173595866829505633|             []|\n",
      "|GCST90012877| 15_63277703_C_T|        15| 63277703| 0.0849598934189|      null|         1.052|            -8|                       0.139487| 0.0148475601067|-6181511576673508209|             []|\n",
      "|GCST90012877| 16_31115000_C_A|        16| 31115000|-0.0620662164665|      null|         4.466|            -9|                       0.281382| 0.0105807514538|-3612515273077152914|             []|\n",
      "|GCST90012877|  17_5229833_T_C|        17|  5229833|-0.0849787931131|      null|         1.352|            -9|                       0.875068| 0.0140203927902|-7070596043624425654|             []|\n",
      "|GCST90012877| 17_63483402_T_C|        17| 63483402| 0.0542810764988|      null|         1.215|            -8|                       0.529632|0.00952697587266| 7171154626284587162|             []|\n",
      "|GCST90012877|  19_1050875_A_G|        19|  1050875|-0.0772974277902|      null|         2.415|           -13|                       0.674169| 0.0105546077307| 6109438569946056978|             []|\n",
      "|GCST90012877| 19_44892009_G_A|        19| 44892009|  0.352722374032|      null|         1.995|          -277|                       0.605067|0.00991069396551| 6814727764900576662|             []|\n",
      "|GCST90012877| 19_51224706_C_A|        19| 51224706|-0.0582180344342|      null|         1.295|            -8|                       0.325551|  0.010237506551|-8288099943480320096|             []|\n",
      "+------------+----------------+----------+---------+----------------+----------+--------------+--------------+-------------------------------+----------------+--------------------+---------------+\n",
      "only showing top 20 rows\n",
      "\n",
      "None\n"
     ]
    },
    {
     "name": "stderr",
     "output_type": "stream",
     "text": [
      "                                                                                \r"
     ]
    }
   ],
   "source": []
  },
  {
   "cell_type": "markdown",
   "metadata": {},
   "source": [
    "## Fine-mapping without outliers detection and imputation using 2M as window size"
   ]
  },
  {
   "cell_type": "code",
   "execution_count": 4,
   "metadata": {},
   "outputs": [
    {
     "name": "stderr",
     "output_type": "stream",
     "text": [
      "                                                                                \r"
     ]
    },
    {
     "name": "stderr",
     "output_type": "stream",
     "text": [
      "2024-04-09 10:41:57.354 Hail: INFO: Table.join: renamed the following fields on the right to avoid name conflicts:\n",
      "    'freq_index_dict' -> 'freq_index_dict_1'\n",
      "    'faf_index_dict' -> 'faf_index_dict_1'\n",
      "    'rf' -> 'rf_1'\n",
      "    'age_index_dict' -> 'age_index_dict_1'\n",
      "    'freq_meta' -> 'freq_meta_1'\n",
      "    'age_distribution' -> 'age_distribution_1'\n",
      "    'popmax_index_dict' -> 'popmax_index_dict_1'\n",
      "2024-04-09 10:42:15.499 Hail: INFO: Coerced sorted dataset\n",
      "2024-04-09 10:42:28.284 Hail: INFO: Coerced sorted dataset\n",
      "2024-04-09 10:44:41.305 Hail: INFO: Table.join: renamed the following fields on the right to avoid name conflicts:\n",
      "    'freq_index_dict' -> 'freq_index_dict_1'\n",
      "    'faf_index_dict' -> 'faf_index_dict_1'\n",
      "    'rf' -> 'rf_1'\n",
      "    'age_index_dict' -> 'age_index_dict_1'\n",
      "    'freq_meta' -> 'freq_meta_1'\n",
      "    'age_distribution' -> 'age_distribution_1'\n",
      "    'popmax_index_dict' -> 'popmax_index_dict_1'\n",
      "2024-04-09 10:44:51.854 Hail: INFO: Coerced sorted dataset\n",
      "2024-04-09 10:45:03.059 Hail: INFO: Coerced sorted dataset\n",
      "2024-04-09 10:47:04.871 Hail: INFO: Table.join: renamed the following fields on the right to avoid name conflicts:\n",
      "    'freq_index_dict' -> 'freq_index_dict_1'\n",
      "    'faf_index_dict' -> 'faf_index_dict_1'\n",
      "    'rf' -> 'rf_1'\n",
      "    'age_index_dict' -> 'age_index_dict_1'\n",
      "    'freq_meta' -> 'freq_meta_1'\n",
      "    'age_distribution' -> 'age_distribution_1'\n",
      "    'popmax_index_dict' -> 'popmax_index_dict_1'\n",
      "2024-04-09 10:47:17.310 Hail: INFO: Coerced sorted dataset\n",
      "2024-04-09 10:47:29.113 Hail: INFO: Coerced sorted dataset\n",
      "2024-04-09 10:50:32.790 Hail: INFO: Table.join: renamed the following fields on the right to avoid name conflicts:\n",
      "    'freq_index_dict' -> 'freq_index_dict_1'\n",
      "    'faf_index_dict' -> 'faf_index_dict_1'\n",
      "    'rf' -> 'rf_1'\n",
      "    'age_index_dict' -> 'age_index_dict_1'\n",
      "    'freq_meta' -> 'freq_meta_1'\n",
      "    'age_distribution' -> 'age_distribution_1'\n",
      "    'popmax_index_dict' -> 'popmax_index_dict_1'\n",
      "2024-04-09 10:50:46.191 Hail: INFO: Coerced sorted dataset\n",
      "2024-04-09 10:50:57.958 Hail: INFO: Coerced sorted dataset\n",
      "2024-04-09 10:53:22.698 Hail: INFO: Table.join: renamed the following fields on the right to avoid name conflicts:\n",
      "    'freq_index_dict' -> 'freq_index_dict_1'\n",
      "    'faf_index_dict' -> 'faf_index_dict_1'\n",
      "    'rf' -> 'rf_1'\n",
      "    'age_index_dict' -> 'age_index_dict_1'\n",
      "    'freq_meta' -> 'freq_meta_1'\n",
      "    'age_distribution' -> 'age_distribution_1'\n",
      "    'popmax_index_dict' -> 'popmax_index_dict_1'\n",
      "2024-04-09 10:53:34.535 Hail: INFO: Coerced sorted dataset\n",
      "2024-04-09 10:53:45.816 Hail: INFO: Coerced sorted dataset\n",
      "2024-04-09 10:57:23.189 Hail: INFO: Table.join: renamed the following fields on the right to avoid name conflicts:\n",
      "    'freq_index_dict' -> 'freq_index_dict_1'\n",
      "    'faf_index_dict' -> 'faf_index_dict_1'\n",
      "    'rf' -> 'rf_1'\n",
      "    'age_index_dict' -> 'age_index_dict_1'\n",
      "    'freq_meta' -> 'freq_meta_1'\n",
      "    'age_distribution' -> 'age_distribution_1'\n",
      "    'popmax_index_dict' -> 'popmax_index_dict_1'\n",
      "2024-04-09 10:57:34.563 Hail: INFO: Coerced sorted dataset\n",
      "2024-04-09 10:57:43.988 Hail: INFO: Coerced sorted dataset\n",
      "2024-04-09 10:59:39.834 Hail: INFO: Table.join: renamed the following fields on the right to avoid name conflicts:\n",
      "    'freq_index_dict' -> 'freq_index_dict_1'\n",
      "    'faf_index_dict' -> 'faf_index_dict_1'\n",
      "    'rf' -> 'rf_1'\n",
      "    'age_index_dict' -> 'age_index_dict_1'\n",
      "    'freq_meta' -> 'freq_meta_1'\n",
      "    'age_distribution' -> 'age_distribution_1'\n",
      "    'popmax_index_dict' -> 'popmax_index_dict_1'\n",
      "2024-04-09 10:59:52.878 Hail: INFO: Coerced sorted dataset\n",
      "2024-04-09 11:00:06.629 Hail: INFO: Coerced sorted dataset\n",
      "2024-04-09 11:02:11.433 Hail: INFO: Table.join: renamed the following fields on the right to avoid name conflicts:\n",
      "    'freq_index_dict' -> 'freq_index_dict_1'\n",
      "    'faf_index_dict' -> 'faf_index_dict_1'\n",
      "    'rf' -> 'rf_1'\n",
      "    'age_index_dict' -> 'age_index_dict_1'\n",
      "    'freq_meta' -> 'freq_meta_1'\n",
      "    'age_distribution' -> 'age_distribution_1'\n",
      "    'popmax_index_dict' -> 'popmax_index_dict_1'\n",
      "2024-04-09 11:02:22.101 Hail: INFO: Ordering unsorted dataset with network shuffle\n",
      "2024-04-09 11:02:32.320 Hail: INFO: wrote table with 175330 rows in 8 partitions to /tmp/__iruid_20813-EyC6kjgQ1hAjFSiH1Xp7sB\n",
      "2024-04-09 11:02:35.350 Hail: INFO: Coerced sorted dataset\n",
      "2024-04-09 11:04:16.225 Hail: INFO: Table.join: renamed the following fields on the right to avoid name conflicts:\n",
      "    'freq_index_dict' -> 'freq_index_dict_1'\n",
      "    'faf_index_dict' -> 'faf_index_dict_1'\n",
      "    'rf' -> 'rf_1'\n",
      "    'age_index_dict' -> 'age_index_dict_1'\n",
      "    'freq_meta' -> 'freq_meta_1'\n",
      "    'age_distribution' -> 'age_distribution_1'\n",
      "    'popmax_index_dict' -> 'popmax_index_dict_1'\n",
      "2024-04-09 11:04:27.837 Hail: INFO: Coerced sorted dataset\n",
      "2024-04-09 11:04:41.879 Hail: INFO: Coerced sorted dataset\n",
      "2024-04-09 11:07:09.950 Hail: INFO: Table.join: renamed the following fields on the right to avoid name conflicts:\n",
      "    'freq_index_dict' -> 'freq_index_dict_1'\n",
      "    'faf_index_dict' -> 'faf_index_dict_1'\n",
      "    'rf' -> 'rf_1'\n",
      "    'age_index_dict' -> 'age_index_dict_1'\n",
      "    'freq_meta' -> 'freq_meta_1'\n",
      "    'age_distribution' -> 'age_distribution_1'\n",
      "    'popmax_index_dict' -> 'popmax_index_dict_1'\n",
      "2024-04-09 11:07:21.139 Hail: INFO: Coerced sorted dataset\n",
      "2024-04-09 11:07:33.197 Hail: INFO: Coerced sorted dataset\n",
      "2024-04-09 11:09:56.240 Hail: INFO: Table.join: renamed the following fields on the right to avoid name conflicts:\n",
      "    'freq_index_dict' -> 'freq_index_dict_1'\n",
      "    'faf_index_dict' -> 'faf_index_dict_1'\n",
      "    'rf' -> 'rf_1'\n",
      "    'age_index_dict' -> 'age_index_dict_1'\n",
      "    'freq_meta' -> 'freq_meta_1'\n",
      "    'age_distribution' -> 'age_distribution_1'\n",
      "    'popmax_index_dict' -> 'popmax_index_dict_1'\n",
      "2024-04-09 11:10:08.288 Hail: INFO: Coerced sorted dataset\n",
      "2024-04-09 11:10:20.802 Hail: INFO: Coerced sorted dataset\n",
      "2024-04-09 11:14:07.114 Hail: INFO: Table.join: renamed the following fields on the right to avoid name conflicts:\n",
      "    'freq_index_dict' -> 'freq_index_dict_1'\n",
      "    'faf_index_dict' -> 'faf_index_dict_1'\n",
      "    'rf' -> 'rf_1'\n",
      "    'age_index_dict' -> 'age_index_dict_1'\n",
      "    'freq_meta' -> 'freq_meta_1'\n",
      "    'age_distribution' -> 'age_distribution_1'\n",
      "    'popmax_index_dict' -> 'popmax_index_dict_1'\n",
      "2024-04-09 11:14:20.204 Hail: INFO: Coerced sorted dataset\n",
      "2024-04-09 11:14:32.464 Hail: INFO: Coerced sorted dataset\n",
      "2024-04-09 11:16:41.133 Hail: INFO: Table.join: renamed the following fields on the right to avoid name conflicts:\n",
      "    'freq_index_dict' -> 'freq_index_dict_1'\n",
      "    'faf_index_dict' -> 'faf_index_dict_1'\n",
      "    'rf' -> 'rf_1'\n",
      "    'age_index_dict' -> 'age_index_dict_1'\n",
      "    'freq_meta' -> 'freq_meta_1'\n",
      "    'age_distribution' -> 'age_distribution_1'\n",
      "    'popmax_index_dict' -> 'popmax_index_dict_1'\n",
      "2024-04-09 11:16:53.191 Hail: INFO: Ordering unsorted dataset with network shuffle\n",
      "2024-04-09 11:17:03.328 Hail: INFO: wrote table with 211068 rows in 9 partitions to /tmp/__iruid_35318-By6CsozcY2JvH6dhwjdBPU\n",
      "2024-04-09 11:17:10.133 Hail: INFO: Coerced sorted dataset\n",
      "2024-04-09 11:19:10.141 Hail: INFO: Table.join: renamed the following fields on the right to avoid name conflicts:\n",
      "    'freq_index_dict' -> 'freq_index_dict_1'\n",
      "    'faf_index_dict' -> 'faf_index_dict_1'\n",
      "    'rf' -> 'rf_1'\n",
      "    'age_index_dict' -> 'age_index_dict_1'\n",
      "    'freq_meta' -> 'freq_meta_1'\n",
      "    'age_distribution' -> 'age_distribution_1'\n",
      "    'popmax_index_dict' -> 'popmax_index_dict_1'\n",
      "2024-04-09 11:19:21.964 Hail: INFO: Coerced sorted dataset\n",
      "2024-04-09 11:19:34.636 Hail: INFO: Coerced sorted dataset\n",
      "2024-04-09 11:21:47.445 Hail: INFO: Table.join: renamed the following fields on the right to avoid name conflicts:\n",
      "    'freq_index_dict' -> 'freq_index_dict_1'\n",
      "    'faf_index_dict' -> 'faf_index_dict_1'\n",
      "    'rf' -> 'rf_1'\n",
      "    'age_index_dict' -> 'age_index_dict_1'\n",
      "    'freq_meta' -> 'freq_meta_1'\n",
      "    'age_distribution' -> 'age_distribution_1'\n",
      "    'popmax_index_dict' -> 'popmax_index_dict_1'\n",
      "2024-04-09 11:21:59.127 Hail: INFO: Ordering unsorted dataset with network shuffle\n",
      "2024-04-09 11:22:15.902 Hail: INFO: Coerced sorted dataset\n",
      "2024-04-09 11:23:18.294 Hail: INFO: Table.join: renamed the following fields on the right to avoid name conflicts:\n",
      "    'freq_index_dict' -> 'freq_index_dict_1'\n",
      "    'faf_index_dict' -> 'faf_index_dict_1'\n",
      "    'rf' -> 'rf_1'\n",
      "    'age_index_dict' -> 'age_index_dict_1'\n",
      "    'freq_meta' -> 'freq_meta_1'\n",
      "    'age_distribution' -> 'age_distribution_1'\n",
      "    'popmax_index_dict' -> 'popmax_index_dict_1'\n",
      "2024-04-09 11:23:32.131 Hail: INFO: Coerced sorted dataset\n",
      "2024-04-09 11:23:48.719 Hail: INFO: Coerced sorted dataset\n",
      "2024-04-09 11:26:51.703 Hail: INFO: Table.join: renamed the following fields on the right to avoid name conflicts:\n",
      "    'freq_index_dict' -> 'freq_index_dict_1'\n",
      "    'faf_index_dict' -> 'faf_index_dict_1'\n",
      "    'rf' -> 'rf_1'\n",
      "    'age_index_dict' -> 'age_index_dict_1'\n",
      "    'freq_meta' -> 'freq_meta_1'\n",
      "    'age_distribution' -> 'age_distribution_1'\n",
      "    'popmax_index_dict' -> 'popmax_index_dict_1'\n",
      "2024-04-09 11:27:02.820 Hail: INFO: Coerced sorted dataset\n",
      "2024-04-09 11:27:18.412 Hail: INFO: Coerced sorted dataset\n",
      "2024-04-09 11:29:02.997 Hail: INFO: Table.join: renamed the following fields on the right to avoid name conflicts:\n",
      "    'freq_index_dict' -> 'freq_index_dict_1'\n",
      "    'faf_index_dict' -> 'faf_index_dict_1'\n",
      "    'rf' -> 'rf_1'\n",
      "    'age_index_dict' -> 'age_index_dict_1'\n",
      "    'freq_meta' -> 'freq_meta_1'\n",
      "    'age_distribution' -> 'age_distribution_1'\n",
      "    'popmax_index_dict' -> 'popmax_index_dict_1'\n",
      "2024-04-09 11:29:19.516 Hail: INFO: Coerced sorted dataset\n",
      "2024-04-09 11:29:41.224 Hail: INFO: Coerced sorted dataset\n",
      "2024-04-09 11:33:19.553 Hail: INFO: Table.join: renamed the following fields on the right to avoid name conflicts:\n",
      "    'freq_index_dict' -> 'freq_index_dict_1'\n",
      "    'faf_index_dict' -> 'faf_index_dict_1'\n",
      "    'rf' -> 'rf_1'\n",
      "    'age_index_dict' -> 'age_index_dict_1'\n",
      "    'freq_meta' -> 'freq_meta_1'\n",
      "    'age_distribution' -> 'age_distribution_1'\n",
      "    'popmax_index_dict' -> 'popmax_index_dict_1'\n",
      "2024-04-09 11:33:32.903 Hail: INFO: Coerced sorted dataset\n",
      "2024-04-09 11:33:49.144 Hail: INFO: Coerced sorted dataset\n",
      "2024-04-09 11:36:16.552 Hail: INFO: Table.join: renamed the following fields on the right to avoid name conflicts:\n",
      "    'freq_index_dict' -> 'freq_index_dict_1'\n",
      "    'faf_index_dict' -> 'faf_index_dict_1'\n",
      "    'rf' -> 'rf_1'\n",
      "    'age_index_dict' -> 'age_index_dict_1'\n",
      "    'freq_meta' -> 'freq_meta_1'\n",
      "    'age_distribution' -> 'age_distribution_1'\n",
      "    'popmax_index_dict' -> 'popmax_index_dict_1'\n",
      "2024-04-09 11:36:28.952 Hail: INFO: Coerced sorted dataset\n",
      "2024-04-09 11:36:46.964 Hail: INFO: Coerced sorted dataset\n",
      "2024-04-09 11:40:40.837 Hail: INFO: Table.join: renamed the following fields on the right to avoid name conflicts:\n",
      "    'freq_index_dict' -> 'freq_index_dict_1'\n",
      "    'faf_index_dict' -> 'faf_index_dict_1'\n",
      "    'rf' -> 'rf_1'\n",
      "    'age_index_dict' -> 'age_index_dict_1'\n",
      "    'freq_meta' -> 'freq_meta_1'\n",
      "    'age_distribution' -> 'age_distribution_1'\n",
      "    'popmax_index_dict' -> 'popmax_index_dict_1'\n",
      "2024-04-09 11:40:51.976 Hail: INFO: Coerced sorted dataset\n",
      "2024-04-09 11:41:04.014 Hail: INFO: Coerced sorted dataset\n",
      "2024-04-09 11:43:54.259 Hail: INFO: Table.join: renamed the following fields on the right to avoid name conflicts:\n",
      "    'freq_index_dict' -> 'freq_index_dict_1'\n",
      "    'faf_index_dict' -> 'faf_index_dict_1'\n",
      "    'rf' -> 'rf_1'\n",
      "    'age_index_dict' -> 'age_index_dict_1'\n",
      "    'freq_meta' -> 'freq_meta_1'\n",
      "    'age_distribution' -> 'age_distribution_1'\n",
      "    'popmax_index_dict' -> 'popmax_index_dict_1'\n",
      "2024-04-09 11:44:05.534 Hail: INFO: Coerced sorted dataset\n",
      "2024-04-09 11:44:20.087 Hail: INFO: Coerced sorted dataset\n",
      "2024-04-09 11:46:45.605 Hail: INFO: Table.join: renamed the following fields on the right to avoid name conflicts:\n",
      "    'freq_index_dict' -> 'freq_index_dict_1'\n",
      "    'faf_index_dict' -> 'faf_index_dict_1'\n",
      "    'rf' -> 'rf_1'\n",
      "    'age_index_dict' -> 'age_index_dict_1'\n",
      "    'freq_meta' -> 'freq_meta_1'\n",
      "    'age_distribution' -> 'age_distribution_1'\n",
      "    'popmax_index_dict' -> 'popmax_index_dict_1'\n",
      "2024-04-09 11:46:59.301 Hail: INFO: Coerced sorted dataset\n",
      "2024-04-09 11:47:13.181 Hail: INFO: Coerced sorted dataset\n",
      "2024-04-09 11:49:50.219 Hail: INFO: Table.join: renamed the following fields on the right to avoid name conflicts:\n",
      "    'freq_index_dict' -> 'freq_index_dict_1'\n",
      "    'faf_index_dict' -> 'faf_index_dict_1'\n",
      "    'rf' -> 'rf_1'\n",
      "    'age_index_dict' -> 'age_index_dict_1'\n",
      "    'freq_meta' -> 'freq_meta_1'\n",
      "    'age_distribution' -> 'age_distribution_1'\n",
      "    'popmax_index_dict' -> 'popmax_index_dict_1'\n",
      "2024-04-09 11:50:02.311 Hail: INFO: Coerced sorted dataset\n",
      "2024-04-09 11:50:16.072 Hail: INFO: Coerced sorted dataset\n",
      "2024-04-09 11:52:34.864 Hail: INFO: Table.join: renamed the following fields on the right to avoid name conflicts:\n",
      "    'freq_index_dict' -> 'freq_index_dict_1'\n",
      "    'faf_index_dict' -> 'faf_index_dict_1'\n",
      "    'rf' -> 'rf_1'\n",
      "    'age_index_dict' -> 'age_index_dict_1'\n",
      "    'freq_meta' -> 'freq_meta_1'\n",
      "    'age_distribution' -> 'age_distribution_1'\n",
      "    'popmax_index_dict' -> 'popmax_index_dict_1'\n",
      "2024-04-09 11:52:46.513 Hail: INFO: Coerced sorted dataset\n",
      "2024-04-09 11:53:00.919 Hail: INFO: Coerced sorted dataset\n",
      "2024-04-09 11:55:50.580 Hail: INFO: Table.join: renamed the following fields on the right to avoid name conflicts:\n",
      "    'freq_index_dict' -> 'freq_index_dict_1'\n",
      "    'faf_index_dict' -> 'faf_index_dict_1'\n",
      "    'rf' -> 'rf_1'\n",
      "    'age_index_dict' -> 'age_index_dict_1'\n",
      "    'freq_meta' -> 'freq_meta_1'\n",
      "    'age_distribution' -> 'age_distribution_1'\n",
      "    'popmax_index_dict' -> 'popmax_index_dict_1'\n",
      "2024-04-09 11:56:02.124 Hail: INFO: Coerced sorted dataset\n",
      "2024-04-09 11:56:16.907 Hail: INFO: Coerced sorted dataset\n",
      "2024-04-09 11:59:15.457 Hail: INFO: Table.join: renamed the following fields on the right to avoid name conflicts:\n",
      "    'freq_index_dict' -> 'freq_index_dict_1'\n",
      "    'faf_index_dict' -> 'faf_index_dict_1'\n",
      "    'rf' -> 'rf_1'\n",
      "    'age_index_dict' -> 'age_index_dict_1'\n",
      "    'freq_meta' -> 'freq_meta_1'\n",
      "    'age_distribution' -> 'age_distribution_1'\n",
      "    'popmax_index_dict' -> 'popmax_index_dict_1'\n",
      "2024-04-09 11:59:27.380 Hail: INFO: Coerced sorted dataset\n",
      "2024-04-09 11:59:40.184 Hail: INFO: Coerced sorted dataset\n",
      "2024-04-09 12:03:31.055 Hail: INFO: Table.join: renamed the following fields on the right to avoid name conflicts:\n",
      "    'freq_index_dict' -> 'freq_index_dict_1'\n",
      "    'faf_index_dict' -> 'faf_index_dict_1'\n",
      "    'rf' -> 'rf_1'\n",
      "    'age_index_dict' -> 'age_index_dict_1'\n",
      "    'freq_meta' -> 'freq_meta_1'\n",
      "    'age_distribution' -> 'age_distribution_1'\n",
      "    'popmax_index_dict' -> 'popmax_index_dict_1'\n",
      "2024-04-09 12:03:42.554 Hail: INFO: Coerced sorted dataset\n",
      "2024-04-09 12:03:53.915 Hail: INFO: Coerced sorted dataset\n",
      "2024-04-09 12:06:33.123 Hail: INFO: Table.join: renamed the following fields on the right to avoid name conflicts:\n",
      "    'freq_index_dict' -> 'freq_index_dict_1'\n",
      "    'faf_index_dict' -> 'faf_index_dict_1'\n",
      "    'rf' -> 'rf_1'\n",
      "    'age_index_dict' -> 'age_index_dict_1'\n",
      "    'freq_meta' -> 'freq_meta_1'\n",
      "    'age_distribution' -> 'age_distribution_1'\n",
      "    'popmax_index_dict' -> 'popmax_index_dict_1'\n",
      "2024-04-09 12:06:45.813 Hail: INFO: Coerced sorted dataset\n",
      "2024-04-09 12:06:58.340 Hail: INFO: Coerced sorted dataset\n",
      "2024-04-09 12:09:23.153 Hail: INFO: Table.join: renamed the following fields on the right to avoid name conflicts:\n",
      "    'freq_index_dict' -> 'freq_index_dict_1'\n",
      "    'faf_index_dict' -> 'faf_index_dict_1'\n",
      "    'rf' -> 'rf_1'\n",
      "    'age_index_dict' -> 'age_index_dict_1'\n",
      "    'freq_meta' -> 'freq_meta_1'\n",
      "    'age_distribution' -> 'age_distribution_1'\n",
      "    'popmax_index_dict' -> 'popmax_index_dict_1'\n",
      "2024-04-09 12:09:33.531 Hail: INFO: Coerced sorted dataset\n",
      "2024-04-09 12:09:43.693 Hail: INFO: Coerced sorted dataset\n",
      "2024-04-09 12:11:13.739 Hail: INFO: Table.join: renamed the following fields on the right to avoid name conflicts:\n",
      "    'freq_index_dict' -> 'freq_index_dict_1'\n",
      "    'faf_index_dict' -> 'faf_index_dict_1'\n",
      "    'rf' -> 'rf_1'\n",
      "    'age_index_dict' -> 'age_index_dict_1'\n",
      "    'freq_meta' -> 'freq_meta_1'\n",
      "    'age_distribution' -> 'age_distribution_1'\n",
      "    'popmax_index_dict' -> 'popmax_index_dict_1'\n",
      "2024-04-09 12:11:26.087 Hail: INFO: Ordering unsorted dataset with network shuffle\n",
      "2024-04-09 12:11:38.950 Hail: INFO: Coerced sorted dataset\n",
      "2024-04-09 12:13:17.020 Hail: INFO: Table.join: renamed the following fields on the right to avoid name conflicts:\n",
      "    'freq_index_dict' -> 'freq_index_dict_1'\n",
      "    'faf_index_dict' -> 'faf_index_dict_1'\n",
      "    'rf' -> 'rf_1'\n",
      "    'age_index_dict' -> 'age_index_dict_1'\n",
      "    'freq_meta' -> 'freq_meta_1'\n",
      "    'age_distribution' -> 'age_distribution_1'\n",
      "    'popmax_index_dict' -> 'popmax_index_dict_1'\n",
      "2024-04-09 12:13:29.727 Hail: INFO: Coerced sorted dataset\n",
      "2024-04-09 12:13:45.213 Hail: INFO: Coerced sorted dataset\n",
      "2024-04-09 12:20:03.844 Hail: INFO: Table.join: renamed the following fields on the right to avoid name conflicts:\n",
      "    'freq_index_dict' -> 'freq_index_dict_1'\n",
      "    'faf_index_dict' -> 'faf_index_dict_1'\n",
      "    'rf' -> 'rf_1'\n",
      "    'age_index_dict' -> 'age_index_dict_1'\n",
      "    'freq_meta' -> 'freq_meta_1'\n",
      "    'age_distribution' -> 'age_distribution_1'\n",
      "    'popmax_index_dict' -> 'popmax_index_dict_1'\n",
      "2024-04-09 12:20:13.834 Hail: INFO: Coerced sorted dataset\n",
      "2024-04-09 12:20:24.282 Hail: INFO: Coerced sorted dataset\n"
     ]
    },
    {
     "name": "stdout",
     "output_type": "stream",
     "text": [
      "Region:  1:160185602-162185602 ; number of CSs:  1 ; log:\n"
     ]
    },
    {
     "name": "stderr",
     "output_type": "stream",
     "text": [
      "/var/folders/p5/4t9crp1563l792qz8xz_3x5h0000gq/T/ipykernel_46905/1319014212.py:29: FutureWarning:\n",
      "\n",
      "The behavior of DataFrame concatenation with empty or all-NA entries is deprecated. In a future version, this will no longer exclude empty or all-NA columns when determining the result dtypes. To retain the old behavior, exclude the relevant entries before the concat operation.\n",
      "\n",
      "                                                                                \r"
     ]
    },
    {
     "name": "stdout",
     "output_type": "stream",
     "text": [
      "Region:  1:206577223-208577223 ; number of CSs:  1 ; log:\n"
     ]
    },
    {
     "name": "stderr",
     "output_type": "stream",
     "text": [
      "                                                                                \r"
     ]
    },
    {
     "name": "stdout",
     "output_type": "stream",
     "text": [
      "Region:  10:10678309-12678309 ; number of CSs:  1 ; log:\n"
     ]
    },
    {
     "name": "stderr",
     "output_type": "stream",
     "text": [
      "                                                                                \r"
     ]
    },
    {
     "name": "stdout",
     "output_type": "stream",
     "text": [
      "Region:  10:58886075-60886075 ; number of CSs:  1 ; log:\n"
     ]
    },
    {
     "name": "stderr",
     "output_type": "stream",
     "text": [
      "                                                                                \r"
     ]
    },
    {
     "name": "stdout",
     "output_type": "stream",
     "text": [
      "Region:  10:79520381-81520381 ; number of CSs:  1 ; log:\n"
     ]
    },
    {
     "name": "stderr",
     "output_type": "stream",
     "text": [
      "                                                                                \r"
     ]
    },
    {
     "name": "stdout",
     "output_type": "stream",
     "text": [
      "Region:  11:120564878-122564878 ; number of CSs:  2 ; log:\n"
     ]
    },
    {
     "name": "stderr",
     "output_type": "stream",
     "text": [
      "                                                                                \r"
     ]
    },
    {
     "name": "stdout",
     "output_type": "stream",
     "text": [
      "Region:  11:46370397-48370397 ; number of CSs:  6 ; log:\n"
     ]
    },
    {
     "name": "stderr",
     "output_type": "stream",
     "text": [
      "                                                                                \r"
     ]
    },
    {
     "name": "stdout",
     "output_type": "stream",
     "text": [
      "Region:  11:59328267-61328267 ; number of CSs:  1 ; log:\n"
     ]
    },
    {
     "name": "stderr",
     "output_type": "stream",
     "text": [
      "                                                                                \r"
     ]
    },
    {
     "name": "stdout",
     "output_type": "stream",
     "text": [
      "Region:  11:85156833-87156833 ; number of CSs:  1 ; log:\n"
     ]
    },
    {
     "name": "stderr",
     "output_type": "stream",
     "text": [
      "                                                                                \r"
     ]
    },
    {
     "name": "stdout",
     "output_type": "stream",
     "text": [
      "Region:  14:51924962-53924962 ; number of CSs:  1 ; log:\n"
     ]
    },
    {
     "name": "stderr",
     "output_type": "stream",
     "text": [
      "                                                                                \r"
     ]
    },
    {
     "name": "stdout",
     "output_type": "stream",
     "text": [
      "Region:  14:91472511-93472511 ; number of CSs:  2 ; log:\n"
     ]
    },
    {
     "name": "stderr",
     "output_type": "stream",
     "text": [
      "                                                                                \r"
     ]
    },
    {
     "name": "stdout",
     "output_type": "stream",
     "text": [
      "Region:  15:49707194-51707194 ; number of CSs:  1 ; log:\n"
     ]
    },
    {
     "name": "stderr",
     "output_type": "stream",
     "text": [
      "                                                                                \r"
     ]
    },
    {
     "name": "stdout",
     "output_type": "stream",
     "text": [
      "Region:  15:57730416-59730416 ; number of CSs:  1 ; log:\n"
     ]
    },
    {
     "name": "stderr",
     "output_type": "stream",
     "text": [
      "                                                                                \r"
     ]
    },
    {
     "name": "stdout",
     "output_type": "stream",
     "text": [
      "Region:  15:62277703-64277703 ; number of CSs:  1 ; log:\n"
     ]
    },
    {
     "name": "stderr",
     "output_type": "stream",
     "text": [
      "                                                                                \r"
     ]
    },
    {
     "name": "stdout",
     "output_type": "stream",
     "text": [
      "Region:  16:30115000-32115000 ; number of CSs:  1 ; log:\n"
     ]
    },
    {
     "name": "stderr",
     "output_type": "stream",
     "text": [
      "                                                                                \r"
     ]
    },
    {
     "name": "stdout",
     "output_type": "stream",
     "text": [
      "Region:  17:4229833-6229833 ; number of CSs:  1 ; log:\n"
     ]
    },
    {
     "name": "stderr",
     "output_type": "stream",
     "text": [
      "                                                                                \r"
     ]
    },
    {
     "name": "stdout",
     "output_type": "stream",
     "text": [
      "Region:  17:62483402-64483402 ; number of CSs:  1 ; log:\n"
     ]
    },
    {
     "name": "stderr",
     "output_type": "stream",
     "text": [
      "                                                                                \r"
     ]
    },
    {
     "name": "stdout",
     "output_type": "stream",
     "text": [
      "Region:  19:50875-2050875 ; number of CSs:  2 ; log:\n"
     ]
    },
    {
     "name": "stderr",
     "output_type": "stream",
     "text": [
      "                                                                                \r"
     ]
    },
    {
     "name": "stdout",
     "output_type": "stream",
     "text": [
      "Region:  19:43892009-45892009 ; number of CSs:  10 ; log:\n"
     ]
    },
    {
     "name": "stderr",
     "output_type": "stream",
     "text": [
      "                                                                                \r"
     ]
    },
    {
     "name": "stdout",
     "output_type": "stream",
     "text": [
      "Region:  19:50224706-52224706 ; number of CSs:  1 ; log:\n"
     ]
    },
    {
     "name": "stderr",
     "output_type": "stream",
     "text": [
      "                                                                                \r"
     ]
    },
    {
     "name": "stdout",
     "output_type": "stream",
     "text": [
      "Region:  2:104749599-106749599 ; number of CSs:  1 ; log:\n"
     ]
    },
    {
     "name": "stderr",
     "output_type": "stream",
     "text": [
      "                                                                                \r"
     ]
    },
    {
     "name": "stdout",
     "output_type": "stream",
     "text": [
      "Region:  2:126135234-128135234 ; number of CSs:  2 ; log:\n"
     ]
    },
    {
     "name": "stderr",
     "output_type": "stream",
     "text": [
      "                                                                                \r"
     ]
    },
    {
     "name": "stdout",
     "output_type": "stream",
     "text": [
      "Region:  2:232117202-234117202 ; number of CSs:  1 ; log:\n"
     ]
    },
    {
     "name": "stderr",
     "output_type": "stream",
     "text": [
      "                                                                                \r"
     ]
    },
    {
     "name": "stdout",
     "output_type": "stream",
     "text": [
      "Region:  2:64381229-66381229 ; number of CSs:  1 ; log:\n"
     ]
    },
    {
     "name": "stderr",
     "output_type": "stream",
     "text": [
      "                                                                                \r"
     ]
    },
    {
     "name": "stdout",
     "output_type": "stream",
     "text": [
      "Region:  20:55423488-57423488 ; number of CSs:  1 ; log:\n"
     ]
    },
    {
     "name": "stderr",
     "output_type": "stream",
     "text": [
      "[Stage 1199:=====================>                                  (3 + 5) / 8]\r"
     ]
    },
    {
     "name": "stdout",
     "output_type": "stream",
     "text": [
      "Region:  21:25775872-27775872 ; number of CSs:  2 ; log:\n"
     ]
    },
    {
     "name": "stderr",
     "output_type": "stream",
     "text": [
      "                                                                                \r"
     ]
    },
    {
     "name": "stdout",
     "output_type": "stream",
     "text": [
      "Region:  4:10025995-12025995 ; number of CSs:  1 ; log:\n"
     ]
    },
    {
     "name": "stderr",
     "output_type": "stream",
     "text": [
      "                                                                                \r"
     ]
    },
    {
     "name": "stdout",
     "output_type": "stream",
     "text": [
      "Region:  6:39974457-41974457 ; number of CSs:  2 ; log:\n"
     ]
    },
    {
     "name": "stderr",
     "output_type": "stream",
     "text": [
      "                                                                                \r"
     ]
    },
    {
     "name": "stdout",
     "output_type": "stream",
     "text": [
      "Region:  6:46627419-48627419 ; number of CSs:  1 ; log:\n"
     ]
    },
    {
     "name": "stderr",
     "output_type": "stream",
     "text": [
      "[Stage 1403:===================================>                    (5 + 3) / 8]\r"
     ]
    },
    {
     "name": "stdout",
     "output_type": "stream",
     "text": [
      "Region:  7:142410495-144410495 ; number of CSs:  2 ; log:\n"
     ]
    },
    {
     "name": "stderr",
     "output_type": "stream",
     "text": [
      "                                                                                \r"
     ]
    },
    {
     "name": "stdout",
     "output_type": "stream",
     "text": [
      "Region:  7:99374211-101374211 ; number of CSs:  1 ; log:\n"
     ]
    },
    {
     "name": "stderr",
     "output_type": "stream",
     "text": [
      "[Stage 1505:>                                                       (0 + 8) / 8]\r"
     ]
    },
    {
     "name": "stdout",
     "output_type": "stream",
     "text": [
      "Region:  8:26610986-28610986 ; number of CSs:  3 ; log:\n"
     ]
    },
    {
     "name": "stderr",
     "output_type": "stream",
     "text": [
      "                                                                                \r"
     ]
    }
   ],
   "source": [
    "df = slt_df.withColumn(\"row_index\", f.monotonically_increasing_id())\n",
    "\n",
    "columns = [\"N_gwas\", \"N_ld\", \"N_overlap\", \"N_outliers\", \"N_imputed\", \"N_final_to_fm\", \"eleapsed_time\"]\n",
    "logs = pd.DataFrame(columns=columns)\n",
    "\n",
    "for i in range(0,df.count()):\n",
    "    if i!=27:\n",
    "        one_row = df.filter(df.row_index == i).first()\n",
    "\n",
    "        res=SusieFineMapperStep.susie_finemapper_one_studylocus_row_v2_dev(\n",
    "            GWAS=gwas1,\n",
    "            session=session,\n",
    "            study_locus_row=one_row,\n",
    "            study_index=study_index,\n",
    "            window= 2_000_000,\n",
    "            L=10,\n",
    "            susie_est_tausq=False,\n",
    "            run_carma=False,\n",
    "            run_sumstat_imputation=False,\n",
    "            carma_time_limit=600,\n",
    "            imputed_r2_threshold=0.8,\n",
    "            ld_score_threshold=4\n",
    "        )\n",
    "\n",
    "        sl=res[\"study_locus\"]\n",
    "        #print(sl._df.withColumn(\"size\", f.size(sl._df[\"locus\"])).show())\n",
    "        #print(res[\"log\"])\n",
    "        logs=pd.concat([logs,res[\"log\"]])"
   ]
  },
  {
   "cell_type": "code",
   "execution_count": 9,
   "metadata": {},
   "outputs": [
    {
     "name": "stdout",
     "output_type": "stream",
     "text": [
      "  N_gwas   N_ld N_overlap N_outliers N_imputed N_final_to_fm  eleapsed_time\n",
      "0   7120  10431      6456          0         0          6456      56.839336\n",
      "0   7128   8657      5769          0         0          5769      46.149004\n",
      "0   9203  12106      7930          0         0          7930      93.531924\n",
      "0   8351  10014      6995          0         0          6995      74.174323\n",
      "0   9388  12551      8337          0         0          8337     120.602071\n",
      "0   6560   8729      5758          0         0          5758      45.064894\n",
      "0   5005   7701      3954          0         0          3954      55.229344\n",
      "0   7012   8940      5815          0         0          5815      38.824251\n",
      "0   8661  10303      7291          0         0          7291      68.802810\n",
      "0   8081   9966      6771          0         0          6771      64.327746\n",
      "0   8375  11213      7467          0         0          7467     141.808555\n",
      "0   7377   9622      6369          0         0          6369      51.198955\n",
      "0   8181  10864      7116          0         0          7116      49.033224\n",
      "0   7976  10135      6704          0         0          6704      58.357743\n",
      "0   3369   6542      2972          0         0          2972      17.138722\n",
      "0   9006  12776      7969          0         0          7969      83.551872\n",
      "0   4565   7018      3887          0         0          3887      37.801989\n",
      "0   8278  13741      7852          0         0          7852     105.623508\n",
      "0   7582  10448      6100          0         0          6100      58.572944\n",
      "0   9145  12706      8242          0         0          8242     129.442009\n",
      "0   8795  11311      7584          0         0          7584      86.336201\n",
      "0   7852  10028      7041          0         0          7041      67.886754\n",
      "0   8393  10850      7195          0         0          7195      72.375809\n",
      "0   7639  10031      6520          0         0          6520      61.900982\n",
      "0   8899  11509      7922          0         0          7922      86.535298\n",
      "0   8908  11309      7889          0         0          7889      93.595320\n",
      "0  10654  12663      8990          0         0          8990     133.390712\n",
      "0   9073  10228      7398          0         0          7398      79.774280\n",
      "0   8033   9785      6822          0         0          6822      63.950340\n",
      "0   4570   5516      3162          0         0          3162      27.943313\n",
      "0   5716   8785      4760          0         0          4760      30.024706\n",
      "0   9243  10989      7869          0         0          7869     108.898056\n"
     ]
    }
   ],
   "source": [
    "pd.set_option(\"display.max_rows\", None)"
   ]
  },
  {
   "cell_type": "code",
   "execution_count": 11,
   "metadata": {},
   "outputs": [
    {
     "name": "stdout",
     "output_type": "stream",
     "text": [
      "6653.3125\n"
     ]
    }
   ],
   "source": [
    "summary = logs[\"N_overlap\"].mean()"
   ]
  },
  {
   "cell_type": "markdown",
   "metadata": {},
   "source": [
    "# Fine-mapping of APOE locus"
   ]
  },
  {
   "cell_type": "code",
   "execution_count": 4,
   "metadata": {},
   "outputs": [
    {
     "name": "stderr",
     "output_type": "stream",
     "text": [
      "                                                                                \r"
     ]
    },
    {
     "data": {
      "text/plain": [
       "Row(studyId='GCST90012877', variantId='19_44892009_G_A', chromosome='19', position=44892009, beta=0.352722374032, sampleSize=None, pValueMantissa=1.9950000047683716, pValueExponent=-277, effectAlleleFrequencyFromSource=0.6050670146942139, standardError=0.00991069396551, studyLocusId=6814727764900576662, qualityControls=[], row_index=18)"
      ]
     },
     "execution_count": 4,
     "metadata": {},
     "output_type": "execute_result"
    }
   ],
   "source": [
    "df = slt_df.withColumn(\"row_index\", f.monotonically_increasing_id())\n",
    "one_row = df.filter(df.row_index == 18).first()\n",
    "one_row"
   ]
  },
  {
   "cell_type": "markdown",
   "metadata": {},
   "source": [
    "### Without CARMA, without imputation"
   ]
  },
  {
   "cell_type": "code",
   "execution_count": 5,
   "metadata": {},
   "outputs": [
    {
     "name": "stderr",
     "output_type": "stream",
     "text": [
      "                                                                                \r"
     ]
    },
    {
     "name": "stderr",
     "output_type": "stream",
     "text": [
      "2024-04-08 21:34:03.208 Hail: INFO: Table.join: renamed the following fields on the right to avoid name conflicts:\n",
      "    'freq_index_dict' -> 'freq_index_dict_1'\n",
      "    'popmax_index_dict' -> 'popmax_index_dict_1'\n",
      "    'age_distribution' -> 'age_distribution_1'\n",
      "    'freq_meta' -> 'freq_meta_1'\n",
      "    'rf' -> 'rf_1'\n",
      "    'age_index_dict' -> 'age_index_dict_1'\n",
      "    'faf_index_dict' -> 'faf_index_dict_1'\n",
      "2024-04-08 21:34:19.253 Hail: INFO: Coerced sorted dataset\n",
      "2024-04-08 21:34:34.941 Hail: INFO: Coerced sorted dataset\n",
      "2024-04-08 21:37:16.576 Hail: INFO: Table.join: renamed the following fields on the right to avoid name conflicts:\n",
      "    'freq_index_dict' -> 'freq_index_dict_1'\n",
      "    'popmax_index_dict' -> 'popmax_index_dict_1'\n",
      "    'age_distribution' -> 'age_distribution_1'\n",
      "    'freq_meta' -> 'freq_meta_1'\n",
      "    'rf' -> 'rf_1'\n",
      "    'age_index_dict' -> 'age_index_dict_1'\n",
      "    'faf_index_dict' -> 'faf_index_dict_1'\n",
      "2024-04-08 21:37:28.867 Hail: INFO: Coerced sorted dataset\n",
      "2024-04-08 21:37:44.733 Hail: INFO: Coerced sorted dataset\n",
      "2024-04-08 21:52:03.198 Hail: INFO: Table.join: renamed the following fields on the right to avoid name conflicts:\n",
      "    'freq_index_dict' -> 'freq_index_dict_1'\n",
      "    'popmax_index_dict' -> 'popmax_index_dict_1'\n",
      "    'age_distribution' -> 'age_distribution_1'\n",
      "    'freq_meta' -> 'freq_meta_1'\n",
      "    'rf' -> 'rf_1'\n",
      "    'age_index_dict' -> 'age_index_dict_1'\n",
      "    'faf_index_dict' -> 'faf_index_dict_1'\n",
      "2024-04-08 21:52:15.100 Hail: INFO: Coerced sorted dataset\n",
      "2024-04-08 21:52:30.553 Hail: INFO: Coerced sorted dataset\n",
      "2024-04-08 22:21:27.877 Hail: INFO: Table.join: renamed the following fields on the right to avoid name conflicts:\n",
      "    'freq_index_dict' -> 'freq_index_dict_1'\n",
      "    'popmax_index_dict' -> 'popmax_index_dict_1'\n",
      "    'age_distribution' -> 'age_distribution_1'\n",
      "    'freq_meta' -> 'freq_meta_1'\n",
      "    'rf' -> 'rf_1'\n",
      "    'age_index_dict' -> 'age_index_dict_1'\n",
      "    'faf_index_dict' -> 'faf_index_dict_1'\n",
      "2024-04-08 22:21:40.137 Hail: INFO: Coerced sorted dataset\n",
      "2024-04-08 22:21:55.249 Hail: INFO: Coerced sorted dataset\n",
      "2024-04-08 22:23:21.795 Hail: INFO: Table.join: renamed the following fields on the right to avoid name conflicts:\n",
      "    'freq_index_dict' -> 'freq_index_dict_1'\n",
      "    'popmax_index_dict' -> 'popmax_index_dict_1'\n",
      "    'age_distribution' -> 'age_distribution_1'\n",
      "    'freq_meta' -> 'freq_meta_1'\n",
      "    'rf' -> 'rf_1'\n",
      "    'age_index_dict' -> 'age_index_dict_1'\n",
      "    'faf_index_dict' -> 'faf_index_dict_1'\n",
      "2024-04-08 22:23:35.031 Hail: INFO: Coerced sorted dataset\n"
     ]
    },
    {
     "name": "stdout",
     "output_type": "stream",
     "text": [
      "+--------------------+------------+--------------------+----------------+--------------------+---------------+----------+--------+-----------------+------------------+----+\n",
      "|        studyLocusId|     studyId|              region|credibleSetIndex|               locus|      variantId|chromosome|position|finemappingMethod|credibleSetlog10BF|size|\n",
      "+--------------------+------------+--------------------+----------------+--------------------+---------------+----------+--------+-----------------+------------------+----+\n",
      "|-6417720984991662128|GCST90012877|19:43892009-45892009|               1|[{19_44908684_T_C...|19_44908684_T_C|        19|44908684|        SuSiE-inf| 2135.710824756712|   1|\n",
      "|-1158278093713046158|GCST90012877|19:43892009-45892009|               2|[{19_44921094_A_T...|19_44921094_A_T|        19|44921094|        SuSiE-inf| 955.4948390766739|   1|\n",
      "| 8324745608044585165|GCST90012877|19:43892009-45892009|               3|[{19_44917947_C_T...|19_44917947_C_T|        19|44917947|        SuSiE-inf| 690.0307437138443|   1|\n",
      "|-1158278093713046158|GCST90012877|19:43892009-45892009|               4|[{19_44921094_A_T...|19_44921094_A_T|        19|44921094|        SuSiE-inf|425.33378303492805|   1|\n",
      "| 2240477384494621278|GCST90012877|19:43892009-45892009|               5|[{19_44891079_T_C...|19_44891079_T_C|        19|44891079|        SuSiE-inf|395.31055398960274|   1|\n",
      "| 1029535804909934921|GCST90012877|19:43892009-45892009|               6|[{19_44894695_T_C...|19_44894695_T_C|        19|44894695|        SuSiE-inf| 333.9497424582455|   1|\n",
      "|-6417720984991662128|GCST90012877|19:43892009-45892009|               7|[{19_44908684_T_C...|19_44908684_T_C|        19|44908684|        SuSiE-inf|  261.573648706883|   1|\n",
      "|-1158278093713046158|GCST90012877|19:43892009-45892009|               8|[{19_44921094_A_T...|19_44921094_A_T|        19|44921094|        SuSiE-inf|186.66554412409607|   1|\n",
      "|-7370952295217410456|GCST90012877|19:43892009-45892009|               9|[{19_44922505_T_G...|19_44922505_T_G|        19|44922505|        SuSiE-inf| 78.06352464083552|   1|\n",
      "| 3925446284512644964|GCST90012877|19:43892009-45892009|              10|[{19_44913574_T_G...|19_44913574_T_G|        19|44913574|        SuSiE-inf|55.346197523194675|   1|\n",
      "+--------------------+------------+--------------------+----------------+--------------------+---------------+----------+--------+-----------------+------------------+----+\n",
      "\n",
      "None\n",
      "   N_gwas   N_ld  N_overlap  N_outliers  N_imputed  N_final_to_fm  eleapsed_time\n",
      "0    7582  10448       6100           0          0           6100      66.112839\n"
     ]
    }
   ],
   "source": [
    "res=SusieFineMapperStep.susie_finemapper_one_studylocus_row_v2_dev(\n",
    "    GWAS=gwas1,\n",
    "    session=session,\n",
    "    study_locus_row=one_row,\n",
    "    study_index=study_index,\n",
    "    window= 2_000_000,\n",
    "    L=10,\n",
    "    susie_est_tausq=False,\n",
    "    run_carma=False,\n",
    "    run_sumstat_imputation=False,\n",
    "    carma_time_limit=1000,\n",
    "    imputed_r2_threshold=0.8,\n",
    "    ld_score_threshold=4\n",
    ")\n",
    "sl=res[\"study_locus\"]"
   ]
  },
  {
   "cell_type": "markdown",
   "metadata": {},
   "source": [
    "### With CARMA, without imputation"
   ]
  },
  {
   "cell_type": "code",
   "execution_count": 6,
   "metadata": {},
   "outputs": [
    {
     "name": "stderr",
     "output_type": "stream",
     "text": [
      "                                                                                \r"
     ]
    },
    {
     "name": "stdout",
     "output_type": "stream",
     "text": [
      "+--------------------+------------+--------------------+----------------+--------------------+---------------+----------+--------+-----------------+------------------+----+\n",
      "|        studyLocusId|     studyId|              region|credibleSetIndex|               locus|      variantId|chromosome|position|finemappingMethod|credibleSetlog10BF|size|\n",
      "+--------------------+------------+--------------------+----------------+--------------------+---------------+----------+--------+-----------------+------------------+----+\n",
      "|-6417720984991662128|GCST90012877|19:43892009-45892009|               1|[{19_44908684_T_C...|19_44908684_T_C|        19|44908684|        SuSiE-inf|1995.6574121818223|   1|\n",
      "|-1158278093713046158|GCST90012877|19:43892009-45892009|               2|[{19_44921094_A_T...|19_44921094_A_T|        19|44921094|        SuSiE-inf| 721.2637360279233|   1|\n",
      "| 7760477027903907683|GCST90012877|19:43892009-45892009|               3|[{19_44911142_C_A...|19_44911142_C_A|        19|44911142|        SuSiE-inf|248.39159334060017|   1|\n",
      "|-1172224975892516254|GCST90012877|19:43892009-45892009|               4|[{19_44894255_A_C...|19_44894255_A_C|        19|44894255|        SuSiE-inf| 96.16160678286879|   1|\n",
      "| 8852802213660052283|GCST90012877|19:43892009-45892009|               5|[{19_44862190_G_A...|19_44862190_G_A|        19|44862190|        SuSiE-inf| 55.80518621838019|   1|\n",
      "|-1158278093713046158|GCST90012877|19:43892009-45892009|               6|[{19_44921094_A_T...|19_44921094_A_T|        19|44921094|        SuSiE-inf| 53.24772075097935|   1|\n",
      "|-6417720984991662128|GCST90012877|19:43892009-45892009|               7|[{19_44908684_T_C...|19_44908684_T_C|        19|44908684|        SuSiE-inf| 45.65754067281976|   1|\n",
      "|-6417720984991662128|GCST90012877|19:43892009-45892009|               8|[{19_44908684_T_C...|19_44908684_T_C|        19|44908684|        SuSiE-inf|  39.3840804563262|   1|\n",
      "| 6986973025714240626|GCST90012877|19:43892009-45892009|               9|[{19_44873060_C_G...|19_44873060_C_G|        19|44873060|        SuSiE-inf| 38.54912041595975|   1|\n",
      "| 3640651426400620880|GCST90012877|19:43892009-45892009|              10|[{19_44845920_G_C...|19_44845920_G_C|        19|44845920|        SuSiE-inf|35.378479810047224|   2|\n",
      "+--------------------+------------+--------------------+----------------+--------------------+---------------+----------+--------+-----------------+------------------+----+\n",
      "\n",
      "None\n",
      "   N_gwas   N_ld  N_overlap  N_outliers  N_imputed  N_final_to_fm  eleapsed_time\n",
      "0    7582  10448       6100         151          0           5949     783.939477\n"
     ]
    }
   ],
   "source": [
    "res=SusieFineMapperStep.susie_finemapper_one_studylocus_row_v2_dev(\n",
    "    GWAS=gwas1,\n",
    "    session=session,\n",
    "    study_locus_row=one_row,\n",
    "    study_index=study_index,\n",
    "    window= 2_000_000,\n",
    "    L=10,\n",
    "    susie_est_tausq=False,\n",
    "    run_carma=True,\n",
    "    run_sumstat_imputation=False,\n",
    "    carma_time_limit=1000,\n",
    "    imputed_r2_threshold=0.8,\n",
    "    ld_score_threshold=4\n",
    ")\n",
    "sl=res[\"study_locus\"]"
   ]
  },
  {
   "cell_type": "markdown",
   "metadata": {},
   "source": [
    "### Without CARMA, with imputation"
   ]
  },
  {
   "cell_type": "code",
   "execution_count": 5,
   "metadata": {},
   "outputs": [
    {
     "name": "stderr",
     "output_type": "stream",
     "text": [
      "                                                                                \r"
     ]
    },
    {
     "name": "stderr",
     "output_type": "stream",
     "text": [
      "2024-04-08 22:25:15.739 Hail: INFO: Table.join: renamed the following fields on the right to avoid name conflicts:\n",
      "    'age_index_dict' -> 'age_index_dict_1'\n",
      "    'freq_index_dict' -> 'freq_index_dict_1'\n",
      "    'faf_index_dict' -> 'faf_index_dict_1'\n",
      "    'freq_meta' -> 'freq_meta_1'\n",
      "    'rf' -> 'rf_1'\n",
      "    'age_distribution' -> 'age_distribution_1'\n",
      "    'popmax_index_dict' -> 'popmax_index_dict_1'\n",
      "2024-04-08 22:25:30.625 Hail: INFO: Coerced sorted dataset\n",
      "2024-04-08 22:25:46.020 Hail: INFO: Coerced sorted dataset\n",
      "2024-04-08 22:32:35.094 Hail: INFO: Table.join: renamed the following fields on the right to avoid name conflicts:\n",
      "    'age_index_dict' -> 'age_index_dict_1'\n",
      "    'freq_index_dict' -> 'freq_index_dict_1'\n",
      "    'faf_index_dict' -> 'faf_index_dict_1'\n",
      "    'freq_meta' -> 'freq_meta_1'\n",
      "    'rf' -> 'rf_1'\n",
      "    'age_distribution' -> 'age_distribution_1'\n",
      "    'popmax_index_dict' -> 'popmax_index_dict_1'\n",
      "2024-04-08 22:32:47.616 Hail: INFO: Coerced sorted dataset\n",
      "2024-04-08 22:33:02.484 Hail: INFO: Coerced sorted dataset\n",
      "2024-04-08 22:51:33.149 Hail: INFO: Table.join: renamed the following fields on the right to avoid name conflicts:\n",
      "    'age_index_dict' -> 'age_index_dict_1'\n",
      "    'freq_index_dict' -> 'freq_index_dict_1'\n",
      "    'faf_index_dict' -> 'faf_index_dict_1'\n",
      "    'freq_meta' -> 'freq_meta_1'\n",
      "    'rf' -> 'rf_1'\n",
      "    'age_distribution' -> 'age_distribution_1'\n",
      "    'popmax_index_dict' -> 'popmax_index_dict_1'\n",
      "2024-04-08 22:51:45.708 Hail: INFO: Coerced sorted dataset\n",
      "2024-04-08 22:52:00.731 Hail: INFO: Coerced sorted dataset\n"
     ]
    },
    {
     "name": "stdout",
     "output_type": "stream",
     "text": [
      "+--------------------+------------+--------------------+----------------+--------------------+-----------------+----------+--------+-----------------+------------------+----+\n",
      "|        studyLocusId|     studyId|              region|credibleSetIndex|               locus|        variantId|chromosome|position|finemappingMethod|credibleSetlog10BF|size|\n",
      "+--------------------+------------+--------------------+----------------+--------------------+-----------------+----------+--------+-----------------+------------------+----+\n",
      "|-1350283509846281677|GCST90012877|19:43892009-45892009|               1|[{19_44909967_TGG...|19_44909967_TGG_T|        19|44909967|        SuSiE-inf| 2310.665662473933|   1|\n",
      "|-1158278093713046158|GCST90012877|19:43892009-45892009|               2|[{19_44921094_A_T...|  19_44921094_A_T|        19|44921094|        SuSiE-inf| 903.6138342773536|   1|\n",
      "| 8324745608044585165|GCST90012877|19:43892009-45892009|               3|[{19_44917947_C_T...|  19_44917947_C_T|        19|44917947|        SuSiE-inf| 700.3080514793324|   1|\n",
      "|-1158278093713046158|GCST90012877|19:43892009-45892009|               4|[{19_44921094_A_T...|  19_44921094_A_T|        19|44921094|        SuSiE-inf|431.79459690536703|   1|\n",
      "| 1029535804909934921|GCST90012877|19:43892009-45892009|               5|[{19_44894695_T_C...|  19_44894695_T_C|        19|44894695|        SuSiE-inf|402.50010763388156|   1|\n",
      "|-1158278093713046158|GCST90012877|19:43892009-45892009|               6|[{19_44921094_A_T...|  19_44921094_A_T|        19|44921094|        SuSiE-inf|225.93101254172214|   1|\n",
      "|  -60207296485035224|GCST90012877|19:43892009-45892009|               7|[{19_44888997_C_T...|  19_44888997_C_T|        19|44888997|        SuSiE-inf| 191.4947272198485|   1|\n",
      "|-1350283509846281677|GCST90012877|19:43892009-45892009|               8|[{19_44909967_TGG...|19_44909967_TGG_T|        19|44909967|        SuSiE-inf|105.04460057482835|   1|\n",
      "|-4078755027603845519|GCST90012877|19:43892009-45892009|               9|[{19_44918393_G_A...|  19_44918393_G_A|        19|44918393|        SuSiE-inf| 63.30243818120949|   1|\n",
      "| 3925446284512644964|GCST90012877|19:43892009-45892009|              10|[{19_44913574_T_G...|  19_44913574_T_G|        19|44913574|        SuSiE-inf|54.079307276192694|   1|\n",
      "+--------------------+------------+--------------------+----------------+--------------------+-----------------+----------+--------+-----------------+------------------+----+\n",
      "\n",
      "None\n",
      "   N_gwas   N_ld  N_overlap  N_outliers  N_imputed  N_final_to_fm  eleapsed_time\n",
      "0    7582  10448       6100           0        681           6781     334.328722\n"
     ]
    }
   ],
   "source": [
    "res=SusieFineMapperStep.susie_finemapper_one_studylocus_row_v2_dev(\n",
    "    GWAS=gwas1,\n",
    "    session=session,\n",
    "    study_locus_row=one_row,\n",
    "    study_index=study_index,\n",
    "    window= 2_000_000,\n",
    "    L=10,\n",
    "    susie_est_tausq=False,\n",
    "    run_carma=False,\n",
    "    run_sumstat_imputation=True,\n",
    "    carma_time_limit=10000,\n",
    "    imputed_r2_threshold=0.8,\n",
    "    ld_score_threshold=4\n",
    ")\n",
    "sl=res[\"study_locus\"]"
   ]
  },
  {
   "cell_type": "markdown",
   "metadata": {},
   "source": [
    "### With CARMA, with imputation"
   ]
  },
  {
   "cell_type": "code",
   "execution_count": 6,
   "metadata": {},
   "outputs": [
    {
     "name": "stderr",
     "output_type": "stream",
     "text": [
      "                                                                                \r"
     ]
    },
    {
     "name": "stdout",
     "output_type": "stream",
     "text": [
      "+--------------------+------------+--------------------+----------------+--------------------+---------------+----------+--------+-----------------+------------------+----+\n",
      "|        studyLocusId|     studyId|              region|credibleSetIndex|               locus|      variantId|chromosome|position|finemappingMethod|credibleSetlog10BF|size|\n",
      "+--------------------+------------+--------------------+----------------+--------------------+---------------+----------+--------+-----------------+------------------+----+\n",
      "| 3030414938485808431|GCST90012877|19:43892009-45892009|               1|[{19_44895007_C_T...|19_44895007_C_T|        19|44895007|        SuSiE-inf|2680.9099711333456|   1|\n",
      "|-2201142982564351776|GCST90012877|19:43892009-45892009|               2|[{19_44900601_A_G...|19_44900601_A_G|        19|44900601|        SuSiE-inf| 2103.873956796136|   1|\n",
      "|-6417720984991662128|GCST90012877|19:43892009-45892009|               3|[{19_44908684_T_C...|19_44908684_T_C|        19|44908684|        SuSiE-inf|1968.8126348567705|   1|\n",
      "|-1158278093713046158|GCST90012877|19:43892009-45892009|               4|[{19_44921094_A_T...|19_44921094_A_T|        19|44921094|        SuSiE-inf|1089.9033376410644|   1|\n",
      "| 7760477027903907683|GCST90012877|19:43892009-45892009|               5|[{19_44911142_C_A...|19_44911142_C_A|        19|44911142|        SuSiE-inf|188.55568384844716|   1|\n",
      "|-6417720984991662128|GCST90012877|19:43892009-45892009|               6|[{19_44908684_T_C...|19_44908684_T_C|        19|44908684|        SuSiE-inf| 83.57344085238768|   1|\n",
      "|-1158278093713046158|GCST90012877|19:43892009-45892009|               7|[{19_44921094_A_T...|19_44921094_A_T|        19|44921094|        SuSiE-inf| 82.01732099119907|   1|\n",
      "| 8852802213660052283|GCST90012877|19:43892009-45892009|               8|[{19_44862190_G_A...|19_44862190_G_A|        19|44862190|        SuSiE-inf| 45.92126992319222|   1|\n",
      "|-1611304699666037367|GCST90012877|19:43892009-45892009|               9|[{19_44821259_C_T...|19_44821259_C_T|        19|44821259|        SuSiE-inf|37.363613067645254|   1|\n",
      "| 3556335645959991344|GCST90012877|19:43892009-45892009|              10|[{19_45017701_G_T...|19_45017701_G_T|        19|45017701|        SuSiE-inf|30.736039473626658|   4|\n",
      "+--------------------+------------+--------------------+----------------+--------------------+---------------+----------+--------+-----------------+------------------+----+\n",
      "\n",
      "None\n",
      "   N_gwas   N_ld  N_overlap  N_outliers  N_imputed  N_final_to_fm  eleapsed_time\n",
      "0    7582  10448       6100         152        715           6663    1036.467428\n"
     ]
    }
   ],
   "source": [
    "res=SusieFineMapperStep.susie_finemapper_one_studylocus_row_v2_dev(\n",
    "    GWAS=gwas1,\n",
    "    session=session,\n",
    "    study_locus_row=one_row,\n",
    "    study_index=study_index,\n",
    "    window= 2_000_000,\n",
    "    L=10,\n",
    "    susie_est_tausq=False,\n",
    "    run_carma=True,\n",
    "    run_sumstat_imputation=True,\n",
    "    carma_time_limit=10000,\n",
    "    imputed_r2_threshold=0.8,\n",
    "    ld_score_threshold=4\n",
    ")\n",
    "sl=res[\"study_locus\"]"
   ]
  },
  {
   "cell_type": "markdown",
   "metadata": {},
   "source": [
    "### With CARMA, with imputation, with estimation of infinitisimal effects (susie_est_tausq=True)"
   ]
  },
  {
   "cell_type": "code",
   "execution_count": 7,
   "metadata": {},
   "outputs": [
    {
     "name": "stderr",
     "output_type": "stream",
     "text": [
      "                                                                                \r"
     ]
    },
    {
     "name": "stdout",
     "output_type": "stream",
     "text": [
      "+--------------------+------------+--------------------+----------------+--------------------+---------------+----------+--------+-----------------+------------------+----+\n",
      "|        studyLocusId|     studyId|              region|credibleSetIndex|               locus|      variantId|chromosome|position|finemappingMethod|credibleSetlog10BF|size|\n",
      "+--------------------+------------+--------------------+----------------+--------------------+---------------+----------+--------+-----------------+------------------+----+\n",
      "|-6417720984991662128|GCST90012877|19:43892009-45892009|               1|[{19_44908684_T_C...|19_44908684_T_C|        19|44908684|        SuSiE-inf| 1105.297844890198|   1|\n",
      "|-1158278093713046158|GCST90012877|19:43892009-45892009|               2|[{19_44921094_A_T...|19_44921094_A_T|        19|44921094|        SuSiE-inf|1042.0949995382389|   1|\n",
      "|-2201142982564351776|GCST90012877|19:43892009-45892009|               3|[{19_44900601_A_G...|19_44900601_A_G|        19|44900601|        SuSiE-inf| 760.0654878716481|   1|\n",
      "| 3030414938485808431|GCST90012877|19:43892009-45892009|               4|[{19_44895007_C_T...|19_44895007_C_T|        19|44895007|        SuSiE-inf| 388.8928142354868|   1|\n",
      "| -251577639520141451|GCST90012877|19:43892009-45892009|               5|[{19_44899220_C_T...|19_44899220_C_T|        19|44899220|        SuSiE-inf| 259.5645544847559|   1|\n",
      "| 7760477027903907683|GCST90012877|19:43892009-45892009|               6|[{19_44911142_C_A...|19_44911142_C_A|        19|44911142|        SuSiE-inf|231.66277856324325|   1|\n",
      "| 4133344777320628094|GCST90012877|19:43892009-45892009|               7|[{19_44904531_G_A...|19_44904531_G_A|        19|44904531|        SuSiE-inf|143.22657752219786|   1|\n",
      "|-1764089385585984368|GCST90012877|19:43892009-45892009|               8|[{19_44893642_T_C...|19_44893642_T_C|        19|44893642|        SuSiE-inf| 87.72507299242906|   1|\n",
      "|-1158278093713046158|GCST90012877|19:43892009-45892009|               9|[{19_44921094_A_T...|19_44921094_A_T|        19|44921094|        SuSiE-inf|  71.4171763690986|   1|\n",
      "|-6417720984991662128|GCST90012877|19:43892009-45892009|              10|[{19_44908684_T_C...|19_44908684_T_C|        19|44908684|        SuSiE-inf| 43.36071977593145|   1|\n",
      "+--------------------+------------+--------------------+----------------+--------------------+---------------+----------+--------+-----------------+------------------+----+\n",
      "\n",
      "None\n",
      "   N_gwas   N_ld  N_overlap  N_outliers  N_imputed  N_final_to_fm  eleapsed_time\n",
      "0    7582  10448       6100         151        720           6669    1229.515921\n"
     ]
    }
   ],
   "source": [
    "res=SusieFineMapperStep.susie_finemapper_one_studylocus_row_v2_dev(\n",
    "    GWAS=gwas1,\n",
    "    session=session,\n",
    "    study_locus_row=one_row,\n",
    "    study_index=study_index,\n",
    "    window= 2_000_000,\n",
    "    L=10,\n",
    "    susie_est_tausq=True,\n",
    "    run_carma=True,\n",
    "    run_sumstat_imputation=True,\n",
    "    carma_time_limit=10000,\n",
    "    imputed_r2_threshold=0.8,\n",
    "    ld_score_threshold=4\n",
    ")\n",
    "sl=res[\"study_locus\"]"
   ]
  },
  {
   "cell_type": "markdown",
   "metadata": {},
   "source": [
    "# Fine-mapping of MHC region using 1Mb window"
   ]
  },
  {
   "cell_type": "code",
   "execution_count": 7,
   "metadata": {},
   "outputs": [
    {
     "name": "stderr",
     "output_type": "stream",
     "text": [
      "                                                                                \r"
     ]
    },
    {
     "data": {
      "text/plain": [
       "Row(studyId='GCST90012877', variantId='6_32592248_A_G', chromosome='6', position=32592248, beta=-0.103604380043, sampleSize=None, pValueMantissa=2.877000093460083, pValueExponent=-15, effectAlleleFrequencyFromSource=0.21086899936199188, standardError=0.0131209374957, studyLocusId=5718491981995302674, qualityControls=[], row_index=27)"
      ]
     },
     "execution_count": 7,
     "metadata": {},
     "output_type": "execute_result"
    }
   ],
   "source": [
    "df = slt_df.withColumn(\"row_index\", f.monotonically_increasing_id())\n",
    "one_row = df.filter(df.row_index == 27).first()\n",
    "one_row"
   ]
  },
  {
   "cell_type": "code",
   "execution_count": 8,
   "metadata": {},
   "outputs": [
    {
     "name": "stderr",
     "output_type": "stream",
     "text": [
      "[Stage 1541:==========================================>             (6 + 2) / 8]\r"
     ]
    },
    {
     "name": "stdout",
     "output_type": "stream",
     "text": [
      "+--------------------+------------+-------------------+----------------+--------------------+---------------+----------+--------+-----------------+------------------+----+\n",
      "|        studyLocusId|     studyId|             region|credibleSetIndex|               locus|      variantId|chromosome|position|finemappingMethod|credibleSetlog10BF|size|\n",
      "+--------------------+------------+-------------------+----------------+--------------------+---------------+----------+--------+-----------------+------------------+----+\n",
      "|-3446214959021623473|GCST90012877|6:32092248-33092248|               1|[{6_32557997_G_A,...| 6_32557997_G_A|         6|32557997|        SuSiE-inf| 4323.908142062261|   1|\n",
      "| -439738150050389281|GCST90012877|6:32092248-33092248|               2|[{6_32558002_G_T,...| 6_32558002_G_T|         6|32558002|        SuSiE-inf|3428.8321277074765|   1|\n",
      "| 5831857384024844796|GCST90012877|6:32092248-33092248|               3|[{6_32557987_C_A,...| 6_32557987_C_A|         6|32557987|        SuSiE-inf|1699.8680349563335|   1|\n",
      "|-1087057043201011402|GCST90012877|6:32092248-33092248|               4|[{6_32557977_T_C,...| 6_32557977_T_C|         6|32557977|        SuSiE-inf| 965.9753305300063|   1|\n",
      "| 6919234179916081233|GCST90012877|6:32092248-33092248|               5|[{6_32649735_C_T,...| 6_32649735_C_T|         6|32649735|        SuSiE-inf| 369.9698233117616|   1|\n",
      "| 7781006900918060896|GCST90012877|6:32092248-33092248|               6|[{6_32652962_C_T,...| 6_32652962_C_T|         6|32652962|        SuSiE-inf| 328.6834447478274|   1|\n",
      "|-7512794333418509403|GCST90012877|6:32092248-33092248|               7|[{6_32591896_T_G,...| 6_32591896_T_G|         6|32591896|        SuSiE-inf|326.52393082050276|   1|\n",
      "| 4056478719932360430|GCST90012877|6:32092248-33092248|               8|[{6_32621456_GC_G...|6_32621456_GC_G|         6|32621456|        SuSiE-inf|263.48518383939836|   1|\n",
      "| 8380896542014789747|GCST90012877|6:32092248-33092248|               9|[{6_32648039_G_A,...| 6_32648039_G_A|         6|32648039|        SuSiE-inf|176.62947310155317|   1|\n",
      "| 9053545161380162736|GCST90012877|6:32092248-33092248|              10|[{6_32700030_C_T,...| 6_32700030_C_T|         6|32700030|        SuSiE-inf| 69.83226092797517|   2|\n",
      "+--------------------+------------+-------------------+----------------+--------------------+---------------+----------+--------+-----------------+------------------+----+\n",
      "\n",
      "None\n",
      "   N_gwas   N_ld  N_overlap  N_outliers  N_imputed  N_final_to_fm  eleapsed_time\n",
      "0   19311  22318      13188           0          0          13188     298.784288\n"
     ]
    }
   ],
   "source": [
    "res=SusieFineMapperStep.susie_finemapper_one_studylocus_row_v2_dev(\n",
    "    GWAS=gwas1,\n",
    "    session=session,\n",
    "    study_locus_row=one_row,\n",
    "    study_index=study_index,\n",
    "    window= 1_000_000,\n",
    "    L=10,\n",
    "    susie_est_tausq=False,\n",
    "    run_carma=False,\n",
    "    run_sumstat_imputation=False,\n",
    "    carma_time_limit=10000,\n",
    "    imputed_r2_threshold=0.8,\n",
    "    ld_score_threshold=4\n",
    ")\n",
    "sl=res[\"study_locus\"]"
   ]
  }
 ],
 "metadata": {
  "kernelspec": {
   "display_name": "gentropy-krNFZEZg-py3.10",
   "language": "python",
   "name": "python3"
  },
  "language_info": {
   "codemirror_mode": {
    "name": "ipython",
    "version": 3
   },
   "file_extension": ".py",
   "mimetype": "text/x-python",
   "name": "python",
   "nbconvert_exporter": "python",
   "pygments_lexer": "ipython3",
   "version": "3.10.8"
  }
 },
 "nbformat": 4,
 "nbformat_minor": 2
}

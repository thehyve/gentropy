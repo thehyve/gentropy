{
 "cells": [
  {
   "attachments": {},
   "cell_type": "markdown",
   "metadata": {},
   "source": [
    "# Benchmarking new PICS implementation\n",
    "\n",
    "The objective of this notebook is to compare the new implementation of PICS estimated on GWAS Catalog associations using gnomAD LD reference, against the previous implementation using 1000 genomes phase III LD reference. \n",
    "\n",
    "1. Describe the new dataset\n",
    "    - Number of signals covered.\n",
    "    - Number of signals dropped.\n",
    "2. Copare with old PICS Dataset.\n",
    "    - Δ number of covered study (not particularly relevant given updates in GWAS Catalog)\n",
    "    - Δ number of covered peaks from studies found in the old release - might see increased coverage.\n",
    "    - Δ in the recovered credible set: number of variants, change in posterior probability.\n",
    "    - Δ in the average number of credible sets.\n",
    "\n",
    "    "
   ]
  },
  {
   "cell_type": "code",
   "execution_count": 5,
   "metadata": {},
   "outputs": [],
   "source": [
    "import pyspark.sql.functions as f\n",
    "from pyspark.sql import SparkSession\n",
    "from pyspark.sql.window import Window\n",
    "\n",
    "spark = SparkSession.builder.getOrCreate()"
   ]
  },
  {
   "attachments": {},
   "cell_type": "markdown",
   "metadata": {},
   "source": [
    "## 1 Describing the new dataset\n",
    "\n",
    "1. Study count.\n",
    "2. Association count.\n",
    "3. Studies split.\n",
    "4. Associations not resolved in LD set."
   ]
  },
  {
   "cell_type": "code",
   "execution_count": 14,
   "metadata": {},
   "outputs": [
    {
     "name": "stdout",
     "output_type": "stream",
     "text": [
      "root\n",
      " |-- chromosome: string (nullable = true)\n",
      " |-- variantId: string (nullable = true)\n",
      " |-- studyId: string (nullable = true)\n",
      " |-- position: string (nullable = true)\n",
      " |-- referenceAllele: string (nullable = true)\n",
      " |-- alternateAllele: string (nullable = true)\n",
      " |-- pValueMantissa: float (nullable = true)\n",
      " |-- pValueExponent: integer (nullable = true)\n",
      " |-- beta: string (nullable = true)\n",
      " |-- beta_ci_lower: double (nullable = true)\n",
      " |-- beta_ci_upper: double (nullable = true)\n",
      " |-- odds_ratio: string (nullable = true)\n",
      " |-- odds_ratio_ci_lower: double (nullable = true)\n",
      " |-- odds_ratio_ci_upper: double (nullable = true)\n",
      " |-- qualityControl: array (nullable = true)\n",
      " |    |-- element: string (containsNull = true)\n",
      " |-- sampleSize: double (nullable = true)\n",
      " |-- tagVariantId: string (nullable = true)\n",
      " |-- R_overall: double (nullable = true)\n",
      " |-- pics_mu: double (nullable = true)\n",
      " |-- pics_std: double (nullable = true)\n",
      " |-- pics_postprob: double (nullable = true)\n",
      " |-- pics_95_perc_credset: boolean (nullable = true)\n",
      " |-- pics_99_perc_credset: boolean (nullable = true)\n",
      " |-- hasResolvedCredibleSet: boolean (nullable = false)\n",
      "\n"
     ]
    },
    {
     "name": "stderr",
     "output_type": "stream",
     "text": [
      "[Stage 82:>                                                         (0 + 1) / 1]\r"
     ]
    },
    {
     "name": "stdout",
     "output_type": "stream",
     "text": [
      "-RECORD 0------------------------------------------\n",
      " chromosome             | 6                        \n",
      " variantId              | 6_13215826_A_G           \n",
      " studyId                | GCST000101_1             \n",
      " position               | 13215826                 \n",
      " referenceAllele        | A                        \n",
      " alternateAllele        | G                        \n",
      " pValueMantissa         | 3.0                      \n",
      " pValueExponent         | -6                       \n",
      " beta                   | null                     \n",
      " beta_ci_lower          | null                     \n",
      " beta_ci_upper          | null                     \n",
      " odds_ratio             | null                     \n",
      " odds_ratio_ci_lower    | null                     \n",
      " odds_ratio_ci_upper    | null                     \n",
      " qualityControl         | [Subsignificant p-value] \n",
      " sampleSize             | 1094.0                   \n",
      " tagVariantId           | 6_13215826_A_G           \n",
      " R_overall              | 1.0                      \n",
      " pics_mu                | 5.522878745280337        \n",
      " pics_std               | 0.0                      \n",
      " pics_postprob          | 0.12718888994626093      \n",
      " pics_95_perc_credset   | true                     \n",
      " pics_99_perc_credset   | true                     \n",
      " hasResolvedCredibleSet | true                     \n",
      "only showing top 1 row\n",
      "\n"
     ]
    },
    {
     "name": "stderr",
     "output_type": "stream",
     "text": [
      "                                                                                \r"
     ]
    }
   ],
   "source": [
    "new_study_locus = (\n",
    "    spark.read.parquet(\"gs://genetics_etl_python_playground/XX.XX/output/python_etl/parquet/pics_credible_set/\")\n",
    "    .withColumn(\"pics_99_perc_credset\", f.when(f.col(\"tagVariantId\").isNull(), False).otherwise(f.col(\"pics_99_perc_credset\")))\n",
    "    .withColumn(\n",
    "        \"hasResolvedCredibleSet\",\n",
    "        f.when(\n",
    "            f.array_contains(\n",
    "                f.collect_set(f.col(\"pics_99_perc_credset\")).over(Window.partitionBy(\"studyId\", \"variantId\")),\n",
    "                True\n",
    "            ),\n",
    "            True\n",
    "        ).otherwise(False)\n",
    "    )\n",
    "    .persist()\n",
    ")\n",
    "\n",
    "\n",
    "new_study_locus.printSchema()\n",
    "new_study_locus.show(1, False, True)"
   ]
  },
  {
   "cell_type": "code",
   "execution_count": 19,
   "metadata": {},
   "outputs": [
    {
     "name": "stderr",
     "output_type": "stream",
     "text": [
      "22/12/19 11:45:49 WARN org.apache.spark.sql.execution.CacheManager: Asked to cache already cached data.\n",
      "[Stage 224:============================================>       (173 + 16) / 200]\r"
     ]
    },
    {
     "name": "stdout",
     "output_type": "stream",
     "text": [
      "Study count: 35956\n",
      "Association (unique study/variant pairs) count: 433108\n",
      "Associations with resolved credible set: 381056 (88.0%)\n",
      "Number of good (non-flagged) associations without resolved credible set: 39763 (9.2%)\n",
      "Number of good (non-flagged) associations with resolved credible set: 260736 (60.2%)\n"
     ]
    },
    {
     "name": "stderr",
     "output_type": "stream",
     "text": [
      "                                                                                \r"
     ]
    }
   ],
   "source": [
    "study_count = new_study_locus.select(\"studyId\").distinct().count()\n",
    "association_count = new_study_locus.select(\"studyId\", \"variantId\").distinct().count()\n",
    "association_w_credible_set = new_study_locus.filter(f.col(\"hasResolvedCredibleSet\")).persist()\n",
    "credible_set_count = association_w_credible_set.select(\"studyId\", \"variantId\").distinct().count()\n",
    "failed_w_ld = (\n",
    "    new_study_locus\n",
    "    # Selecting good associations without credible sets:\n",
    "    .filter(\n",
    "        (~f.col(\"hasResolvedCredibleSet\")) &\n",
    "        (f.size(f.col(\"qualityControl\"))>0)\n",
    "    )\n",
    "    # Get associations:\n",
    "    .select(\"studyId\", \"variantId\")\n",
    "    .distinct()\n",
    "    .count()\n",
    ")\n",
    "good_association_count = (\n",
    "    association_w_credible_set\n",
    "    # Drop failed associations:\n",
    "    .filter(f.size(f.col(\"qualityControl\")) == 0)\n",
    "    .select(\"studyId\", \"variantId\")\n",
    "    .distinct()\n",
    "    .count()\n",
    ")\n",
    "\n"
   ]
  },
  {
   "attachments": {},
   "cell_type": "markdown",
   "metadata": {},
   "source": [
    "Focusing only on the actual credible sets."
   ]
  },
  {
   "cell_type": "code",
   "execution_count": 22,
   "metadata": {},
   "outputs": [
    {
     "name": "stderr",
     "output_type": "stream",
     "text": [
      "22/12/19 11:57:56 WARN org.apache.spark.sql.execution.CacheManager: Asked to cache already cached data.\n",
      "                                                                                \r"
     ]
    },
    {
     "name": "stdout",
     "output_type": "stream",
     "text": [
      "Number of resolved credible sets: 381056\n",
      "Studies with resolved credible sets: 33723\n",
      "Number of lead/tag pairs: 18722043\n"
     ]
    }
   ],
   "source": [
    "# Thu\n",
    "credible_sets = new_study_locus.filter(f.col(\"pics_99_perc_credset\")).persist()\n",
    "resolved_assoc_count = credible_sets.select(\"studyId\", \"variantId\").distinct().count()\n",
    "resolved_study_count = credible_sets.select(\"studyId\").distinct().count()\n",
    "lead_tag_pair_count = credible_sets.select(\"studyId\", \"variantId\", \"tagVariantId\").distinct().count()\n",
    "\n",
    "grouped_credset_pdf = credible_sets.groupBy(\"studyId\", \"variantId\").count().toPandas()\n",
    "\n",
    "\n"
   ]
  },
  {
   "cell_type": "code",
   "execution_count": 31,
   "metadata": {},
   "outputs": [
    {
     "data": {
      "text/plain": [
       "<AxesSubplot:>"
      ]
     },
     "execution_count": 31,
     "metadata": {},
     "output_type": "execute_result"
    },
    {
     "data": {
      "image/png": "[encoded data removed]",
      "text/plain": [
       "<Figure size 432x288 with 1 Axes>"
      ]
     },
     "metadata": {
      "needs_background": "light"
     },
     "output_type": "display_data"
    }
   ],
   "source": [
    "grouped_credset_pdf.query(\"count < 500\")[\"count\"].hist(bins=100)"
   ]
  },
  {
   "cell_type": "code",
   "execution_count": 45,
   "metadata": {},
   "outputs": [
    {
     "name": "stdout",
     "output_type": "stream",
     "text": [
      "Credible sets with only one variant: 29536 (7.8)%\n",
      "Median size of credible sets: 21.0\n"
     ]
    }
   ],
   "source": [
    "median_credset_size = grouped_credset_pdf[\"count\"].median()\n",
    "credsets_with_single = len(grouped_credset_pdf.query(\"count == 1\"))\n"
   ]
  },
  {
   "cell_type": "code",
   "execution_count": 41,
   "metadata": {},
   "outputs": [
    {
     "name": "stderr",
     "output_type": "stream",
     "text": [
      "[Stage 285:====================================>                (139 + 8) / 200]\r"
     ]
    },
    {
     "name": "stdout",
     "output_type": "stream",
     "text": [
      "+------------+---------------+-----+\n",
      "|     studyId|      variantId|count|\n",
      "+------------+---------------+-----+\n",
      "|GCST90095125|17_46142465_T_A|11930|\n",
      "|GCST90095124|17_46142465_T_A|11221|\n",
      "|GCST006483_1|17_45608332_A_G| 9666|\n",
      "|  GCST011766|17_45846834_C_G| 9566|\n",
      "|GCST006481_2|17_45608332_A_G| 9445|\n",
      "|GCST006483_1|17_45605039_C_G| 8912|\n",
      "|GCST006483_3|17_45605039_C_G| 8602|\n",
      "|GCST006481_4|17_45605039_C_G| 8545|\n",
      "|GCST006483_1|17_46770468_T_G| 7465|\n",
      "|GCST006481_2|17_46770468_T_G| 7396|\n",
      "|GCST006483_3|17_46770468_T_G| 7374|\n",
      "|GCST006481_4|17_46770468_T_G| 7327|\n",
      "|GCST001651_9|17_46257341_G_A| 6926|\n",
      "|GCST90134596|17_45707983_T_C| 6748|\n",
      "|  GCST012099|17_45610951_A_G| 6603|\n",
      "|GCST90104034|17_46152620_T_C| 6545|\n",
      "|  GCST012101|17_45610951_A_G| 6374|\n",
      "|GCST90134597|17_45707983_T_C| 6372|\n",
      "|  GCST007692|17_45846834_C_G| 6331|\n",
      "|GCST90013445|17_45996523_A_G| 5668|\n",
      "|GCST008675_1|17_45733530_C_T| 5196|\n",
      "|GCST004008_1|17_45749271_G_A| 5101|\n",
      "|GCST006483_1|17_46785767_T_C| 4913|\n",
      "|GCST006481_2|17_46785767_T_C| 4880|\n",
      "|  GCST007065|11_55736589_G_A| 4071|\n",
      "|GCST90100220|10_73256607_T_A| 3897|\n",
      "|GCST90095190|17_45913906_A_G| 3858|\n",
      "|GCST90095190|17_46055092_G_A| 3855|\n",
      "|GCST90095190|17_45609706_G_A| 3764|\n",
      "|GCST000996_1|11_55368743_C_T| 3727|\n",
      "+------------+---------------+-----+\n",
      "only showing top 30 rows\n",
      "\n"
     ]
    },
    {
     "name": "stderr",
     "output_type": "stream",
     "text": [
      "                                                                                \r"
     ]
    }
   ],
   "source": [
    "credible_sets.groupBy(\"studyId\", \"variantId\").count().filter(f.col(\"count\") > 1000).orderBy(\"count\", ascending=False).show(30)"
   ]
  },
  {
   "attachments": {},
   "cell_type": "markdown",
   "metadata": {},
   "source": [
    "## Comparing with old dataset\n",
    "\n",
    "- Data: `gs://genetics-portal-dev-staging/v2d/220210/ld.parquet`"
   ]
  },
  {
   "cell_type": "code",
   "execution_count": 52,
   "metadata": {},
   "outputs": [
    {
     "name": "stderr",
     "output_type": "stream",
     "text": [
      "[Stage 336:===================================================>   (16 + 1) / 17]\r"
     ]
    },
    {
     "name": "stdout",
     "output_type": "stream",
     "text": [
      "Number of lead/tag count: 19406519\n",
      "NUmber of studies covered: 18349\n",
      "Number of associations covered: 265715\n"
     ]
    },
    {
     "name": "stderr",
     "output_type": "stream",
     "text": [
      "                                                                                \r"
     ]
    }
   ],
   "source": [
    "old_study_locus = (\n",
    "    spark.read.parquet(\"gs://genetics-portal-dev-staging/v2d/220210/ld.parquet\")\n",
    "    .select(\n",
    "        f.col(\"study_id\").alias(\"studyId\"),\n",
    "        f.concat_ws(\"_\", f.col(\"lead_chrom\"), f.col(\"lead_pos\"), f.col(\"lead_ref\"), f.col(\"lead_alt\")).alias(\"variantId\"),\n",
    "        f.concat_ws(\"_\", f.col(\"tag_chrom\"), f.col(\"tag_pos\"), f.col(\"tag_ref\"), f.col(\"tag_alt\")).alias(\"tagVariantId\"),\n",
    "        \"pics_postprob\",\n",
    "        \"pics_95perc_credset\",\n",
    "        \"pics_99perc_credset\"\n",
    "    )\n",
    "    .distinct()\n",
    ")\n",
    "lead_tag_pair_count = old_study_locus.count()\n",
    "study_count = old_study_locus.select(\"studyId\").distinct().count()\n",
    "association_count = old_study_locus.select(\"studyId\", \"variantId\").distinct().count()\n",
    "\n"
   ]
  },
  {
   "cell_type": "code",
   "execution_count": 57,
   "metadata": {},
   "outputs": [
    {
     "name": "stderr",
     "output_type": "stream",
     "text": [
      "22/12/19 13:53:16 WARN org.apache.spark.sql.execution.CacheManager: Asked to cache already cached data.\n"
     ]
    },
    {
     "name": "stdout",
     "output_type": "stream",
     "text": [
      "The median number of tag size: 21.0\n",
      "Number of associations with single credible set: 9231\n",
      "Number of associations with more than 1000 tags set: 441\n",
      "+-------------+---------------+-----+\n",
      "|      studyId|      variantId|count|\n",
      "+-------------+---------------+-----+\n",
      "|   GCST001482|17_45900461_C_T| 3685|\n",
      "| GCST90018953|17_45856424_G_T| 3684|\n",
      "|   GCST007692|17_45846834_C_G| 3649|\n",
      "| GCST90018960|17_45761354_C_T| 3360|\n",
      "| GCST90018996|17_46112544_A_G| 3348|\n",
      "| GCST90091060|17_45873075_C_A| 3295|\n",
      "|   GCST002970|17_45846317_A_G| 3294|\n",
      "|   GCST001548|17_45846853_T_C| 3294|\n",
      "|   GCST007328|17_45887201_A_C| 3294|\n",
      "|   GCST007430|17_45887201_A_C| 3294|\n",
      "|   GCST010701|17_45855805_C_T| 3294|\n",
      "|   GCST001126|17_45846317_A_G| 3294|\n",
      "|   GCST012009|17_45862033_A_C| 3294|\n",
      "|   GCST006941|17_45841739_C_T| 3293|\n",
      "|   GCST004601|17_45841730_A_G| 3293|\n",
      "|   GCST010002|17_45895867_C_T| 3293|\n",
      "| GCST90025948|17_45834077_T_C| 3293|\n",
      "|   GCST008733|17_45834077_T_C| 3293|\n",
      "|   GCST008734|17_45834077_T_C| 3293|\n",
      "|GCST009518_66|17_45841730_A_G| 3293|\n",
      "+-------------+---------------+-----+\n",
      "only showing top 20 rows\n",
      "\n"
     ]
    }
   ],
   "source": [
    "tag_count = old_study_locus.groupBy(\"studyId\", \"variantId\").count().persist()\n",
    "median_tag_count = tag_count.toPandas()[\"count\"].median()\n",
    "single_count = tag_count.filter(f.col(\"count\") == 1).count()\n",
    "over_1000 = tag_count.filter(f.col(\"count\") >= 1000).count()\n",
    "\n",
    "\n",
    "tag_count.orderBy(\"count\",ascending=False).show(20)"
   ]
  },
  {
   "attachments": {},
   "cell_type": "markdown",
   "metadata": {},
   "source": [
    "### Compare credible sets\n",
    "\n",
    "To make datasets comparable, both datasets need to updated with `studyAccession`: getting the GWAS Catalog study identifier by removing the suffix."
   ]
  },
  {
   "cell_type": "code",
   "execution_count": 97,
   "metadata": {},
   "outputs": [
    {
     "name": "stderr",
     "output_type": "stream",
     "text": [
      "[Stage 414:>                (0 + 1) / 1][Stage 1072:========>      (9 + 7) / 16]\r"
     ]
    }
   ],
   "source": [
    "processed_new = (\n",
    "    credible_sets\n",
    "    # Dropping leads with sub-significant p-values:\n",
    "    .filter(f.size(f.col(\"qualityControl\")) == 0)\n",
    "    .select(\n",
    "        f.split(f.col(\"studyId\"), \"_\").getItem(0).alias(\"studyAccession\"),\n",
    "        \"variantId\",\n",
    "        \"tagVariantId\",\n",
    "        \"pics_mu\",\n",
    "        \"pics_postprob\",\n",
    "        \"pics_95_perc_credset\",\n",
    "        \"pics_99_perc_credset\"\n",
    "    )\n",
    "    .persist()\n",
    ")\n",
    "\n",
    "processed_old = (\n",
    "    old_study_locus\n",
    "    .select(\n",
    "        f.split(f.col(\"studyId\"), \"_\").getItem(0).alias(\"studyAccession\"),\n",
    "        \"variantId\",\n",
    "        \"tagVariantId\",\n",
    "        \"pics_postprob\",\n",
    "        \"pics_95perc_credset\",\n",
    "        \"pics_99perc_credset\"\n",
    "    )\n",
    "    .persist()\n",
    ")\n",
    "\n",
    "processed_old.show(1, False, True)"
   ]
  },
  {
   "cell_type": "code",
   "execution_count": 68,
   "metadata": {},
   "outputs": [
    {
     "name": "stderr",
     "output_type": "stream",
     "text": [
      "22/12/19 14:19:35 WARN org.apache.spark.sql.execution.CacheManager: Asked to cache already cached data.\n",
      "22/12/19 14:19:35 WARN org.apache.spark.sql.execution.CacheManager: Asked to cache already cached data.\n",
      "[Stage 414:>                (0 + 1) / 1][Stage 431:============>(187 + 7) / 200]\r"
     ]
    },
    {
     "name": "stdout",
     "output_type": "stream",
     "text": [
      "+--------------+---------------+---------------------+---------------------+\n",
      "|studyAccession|      variantId|new_credible_set_size|old_credible_set_size|\n",
      "+--------------+---------------+---------------------+---------------------+\n",
      "|    GCST000114|15_48099968_A_G|                   13|                   38|\n",
      "|    GCST000172|3_190632672_A_G|                   12|                 null|\n",
      "|    GCST000184|18_60217517_G_A|                  233|                  214|\n",
      "|    GCST000189|16_81270154_T_C|                    6|                 null|\n",
      "|    GCST000189|9_105892815_G_T|                   26|                 null|\n",
      "|    GCST000282|19_11100236_C_T|                   34|                   69|\n",
      "|    GCST000425|16_23055939_T_G|                  227|                 null|\n",
      "|    GCST000452|2_156696348_A_C|                   19|                 null|\n",
      "|    GCST000679| 10_6056986_C_T|                   12|                 null|\n",
      "|    GCST000817|9_136220024_G_T|                   23|                   27|\n",
      "|    GCST000876|11_18349351_G_C|                    2|                    6|\n",
      "|    GCST000943| 20_1960525_G_A|                 null|                    2|\n",
      "|    GCST000957|22_49692725_G_A|                   16|                 null|\n",
      "|    GCST000964|13_77957479_G_A|                 null|                   47|\n",
      "|    GCST000998|10_44280376_C_T|                  193|                 null|\n",
      "|    GCST000998|21_34226827_C_T|                   29|                   32|\n",
      "|    GCST001010| 6_32689801_T_C|                    1|                  112|\n",
      "|    GCST001040|17_37738049_G_A|                 null|                   21|\n",
      "|    GCST001057|13_66393490_A_G|                    7|                 null|\n",
      "|    GCST001059|2_198123211_C_A|                    8|                 null|\n",
      "+--------------+---------------+---------------------+---------------------+\n",
      "only showing top 20 rows\n",
      "\n"
     ]
    },
    {
     "name": "stderr",
     "output_type": "stream",
     "text": [
      "                                                                                \r"
     ]
    },
    {
     "name": "stderr",
     "output_type": "stream",
     "text": [
      "[Stage 414:>                                                        (0 + 1) / 1]\r"
     ]
    }
   ],
   "source": [
    "aggregated_new = (\n",
    "    processed_new\n",
    "    .join(processed_old.select(\"studyAccession\").distinct(), on=\"studyAccession\", how=\"right\")\n",
    "    .groupBy(\"studyAccession\", \"variantId\")\n",
    "    .agg(f.size(f.collect_list(f.col(\"tagVariantId\"))).alias(\"new_credible_set_size\"))\n",
    "    .persist()\n",
    ")\n",
    "\n",
    "aggregated_old = (\n",
    "    processed_old\n",
    "    .groupBy(\"studyAccession\", \"variantId\")\n",
    "    .agg(f.size(f.collect_list(f.col(\"tagVariantId\"))).alias(\"old_credible_set_size\"))\n",
    "    .persist()\n",
    ")\n",
    "\n",
    "credset_compare = (\n",
    "    aggregated_new\n",
    "    .join(aggregated_old.filter(f.col(\"studyAccession\").startswith(\"GCST\")), on=[\"studyAccession\", \"variantId\"], how=\"outer\")\n",
    "    .persist()\n",
    ")\n",
    "\n",
    "credset_compare.show()"
   ]
  },
  {
   "cell_type": "code",
   "execution_count": 74,
   "metadata": {},
   "outputs": [
    {
     "name": "stderr",
     "output_type": "stream",
     "text": [
      "                                                                                \r"
     ]
    },
    {
     "name": "stdout",
     "output_type": "stream",
     "text": [
      "The number of extra credible sets covered by the new dataset: 104508 (53.0%)\n",
      "Number of lost credible sets in the new datasets: 49292 (25.0%)\n",
      "The number of extra credible sets with more than 1 tags covered by the new dataset: 94745 (48.1%)\n"
     ]
    },
    {
     "name": "stderr",
     "output_type": "stream",
     "text": [
      "[Stage 414:>                                                        (0 + 1) / 1]\r"
     ]
    }
   ],
   "source": [
    "extra_coverage = credset_compare.filter(f.col(\"old_credible_set_size\").isNull()).count()\n",
    "lost_coverage = credset_compare.filter(f.col(\"new_credible_set_size\").isNull()).count()\n",
    "old_full_count = aggregated_old.filter(f.col(\"studyAccession\").startswith(\"GCST\")).count()\n",
    "\n",
    "\n",
    "extra_coverage_more = credset_compare.filter(f.col(\"old_credible_set_size\").isNull() & (f.col(\"new_credible_set_size\")>1)).count()\n",
    "\n"
   ]
  },
  {
   "cell_type": "code",
   "execution_count": 75,
   "metadata": {},
   "outputs": [
    {
     "name": "stdout",
     "output_type": "stream",
     "text": [
      "+--------------+--------------------+---------------------+---------------------+\n",
      "|studyAccession|           variantId|new_credible_set_size|old_credible_set_size|\n",
      "+--------------+--------------------+---------------------+---------------------+\n",
      "|    GCST000943|      20_1960525_G_A|                 null|                    2|\n",
      "|    GCST000964|     13_77957479_G_A|                 null|                   47|\n",
      "|    GCST001040|     17_37738049_G_A|                 null|                   21|\n",
      "|    GCST002216|      7_73450539_A_G|                 null|                   94|\n",
      "|    GCST002221|     9_133372523_G_C|                 null|                   20|\n",
      "|    GCST002223|      8_19973410_C_T|                 null|                  106|\n",
      "|    GCST002223|      8_20009083_C_T|                 null|                   98|\n",
      "|    GCST003043|     16_11271643_C_T|                 null|                   14|\n",
      "|    GCST003191|     20_22824423_G_A|                 null|                   30|\n",
      "|    GCST003879|     22_23030688_C_G|                 null|                  104|\n",
      "|    GCST004132|     16_10871740_T_C|                 null|                   74|\n",
      "|    GCST004365|     3_186755027_C_T|                 null|                   12|\n",
      "|    GCST004600|      6_35756341_T_C|                 null|                   17|\n",
      "|    GCST004601|     11_8721318_TC_T|                 null|                  171|\n",
      "|    GCST004601|      6_27878966_G_C|                 null|                  267|\n",
      "|    GCST004603|16_88730362_G_GGG...|                 null|                   10|\n",
      "|    GCST004603|      4_17777672_A_T|                 null|                    9|\n",
      "|    GCST004605|     6_28489735_CT_C|                 null|                    1|\n",
      "|    GCST004607|     20_56413821_A_G|                 null|                   15|\n",
      "|    GCST004607|     2_218258320_T_A|                 null|                  235|\n",
      "+--------------+--------------------+---------------------+---------------------+\n",
      "only showing top 20 rows\n",
      "\n"
     ]
    },
    {
     "name": "stderr",
     "output_type": "stream",
     "text": [
      "                                                                                \r"
     ]
    },
    {
     "name": "stderr",
     "output_type": "stream",
     "text": [
      "[Stage 414:>                                                        (0 + 1) / 1]\r"
     ]
    }
   ],
   "source": [
    "credset_compare.filter(f.col(\"new_credible_set_size\").isNull()).show()"
   ]
  },
  {
   "cell_type": "markdown",
   "metadata": {},
   "source": [
    "**Conclusion:**\n",
    "- The reason of the disagreement is the fact that the old dataset contains data from summary stats finemapping.\n",
    "- To resolve this problem, we exclude those studies which have summary stats. These credible sets should be in a better agreement."
   ]
  },
  {
   "cell_type": "code",
   "execution_count": 89,
   "metadata": {},
   "outputs": [
    {
     "name": "stderr",
     "output_type": "stream",
     "text": [
      "                                                                                \r"
     ]
    },
    {
     "data": {
      "text/plain": [
       "141"
      ]
     },
     "execution_count": 89,
     "metadata": {},
     "output_type": "execute_result"
    },
    {
     "name": "stderr",
     "output_type": "stream",
     "text": [
      "[Stage 414:>                                                        (0 + 1) / 1]\r"
     ]
    }
   ],
   "source": [
    "(\n",
    "    spark.read.parquet(\"gs://genetics-portal-dev-staging/v2d/220401/ld.parquet\")\n",
    "    .filter(f.col(\"study_id\") == \"GCST002223\")\n",
    "    .select(\"lead_chrom\", \"lead_pos\", \"lead_ref\", \"lead_alt\")\n",
    "    .distinct()\n",
    "    .count()\n",
    ")"
   ]
  },
  {
   "cell_type": "code",
   "execution_count": 96,
   "metadata": {},
   "outputs": [
    {
     "name": "stderr",
     "output_type": "stream",
     "text": [
      "22/12/19 15:57:00 WARN org.apache.spark.sql.execution.CacheManager: Asked to cache already cached data.\n",
      "                                                                                \r"
     ]
    },
    {
     "name": "stdout",
     "output_type": "stream",
     "text": [
      "Number of credible sets in the selected studies (27054): 105658\n",
      "The number of extra credible sets covered by the new dataset in the same studies: 73250 (69.3%)\n",
      "Number of lost credible sets in the new datasets: 8454 (8.0%)\n",
      "The number of extra credible sets with more than 1 tags covered by the new dataset: 67183 (63.6%)\n"
     ]
    }
   ],
   "source": [
    "studies_with_no_sumstats = (\n",
    "    spark.read.parquet(\"gs://genetics_etl_python_playground/XX.XX/output/python_etl/parquet/gwas_catalog_studies/\")\n",
    "    .filter(~f.col(\"hasSumstats\"))\n",
    "    .select(f.split(f.col(\"studyId\"), \"_\").getItem(0).alias(\"studyAccession\"))\n",
    "    .distinct()\n",
    ")\n",
    "\n",
    "# Dropping studies with summary statistics:\n",
    "credset_compare_update = credset_compare.join(studies_with_no_sumstats, on=\"studyAccession\", how=\"inner\").distinct().persist()\n",
    "\n",
    "old_full_count = credset_compare_update.filter(f.col(\"old_credible_set_size\").isNotNull()).count()\n",
    "extra_coverage = credset_compare_update.filter(f.col(\"old_credible_set_size\").isNull()).count()\n",
    "lost_coverage = credset_compare_update.filter(f.col(\"new_credible_set_size\").isNull()).count()\n",
    "\n",
    "\n",
    "extra_coverage_more = credset_compare_update.filter(f.col(\"old_credible_set_size\").isNull() & (f.col(\"new_credible_set_size\")>1)).count()\n"
   ]
  },
  {
   "cell_type": "code",
   "execution_count": 91,
   "metadata": {},
   "outputs": [
    {
     "data": {
      "text/plain": [
       "2"
      ]
     },
     "execution_count": 91,
     "metadata": {},
     "output_type": "execute_result"
    }
   ],
   "source": [
    "1+1"
   ]
  },
  {
   "cell_type": "code",
   "execution_count": null,
   "metadata": {},
   "outputs": [],
   "source": []
  }
 ],
 "metadata": {
  "kernelspec": {
   "display_name": "otgenetics-Z1loiStc-py3.8",
   "language": "python",
   "name": "python3"
  },
  "language_info": {
   "codemirror_mode": {
    "name": "ipython",
    "version": 3
   },
   "file_extension": ".py",
   "mimetype": "text/x-python",
   "name": "python",
   "nbconvert_exporter": "python",
   "pygments_lexer": "ipython3",
   "version": "3.8.16 (default, Dec  7 2022, 01:39:17) \n[Clang 14.0.0 (clang-1400.0.29.202)]"
  },
  "orig_nbformat": 4,
  "vscode": {
   "interpreter": {
    "hash": "5a448d06c31dd563cc2d2f896cd972f1626bb3e0fbcfc3d2f2ab4cc41131eab9"
   }
  }
 },
 "nbformat": 4,
 "nbformat_minor": 2
}
